{
 "cells": [
  {
   "cell_type": "markdown",
   "id": "6b7a1f27",
   "metadata": {},
   "source": [
    "#### 1) What is the fundamental idea behind Support Vector Machines?\n",
    "**ANS -:** The main idea is to find a hyperplane that separate two classes in the best way and staying away from the closest training instance (ie. to keep the street{distance b/w support vector} as wide as possible) "
   ]
  },
  {
   "cell_type": "markdown",
   "id": "cfe6ef98",
   "metadata": {},
   "source": [
    "#### 2) What is a support vector?\n",
    "**ANS -:** Support vector are the secondary-hyperplane which are parallel to the classifying hyperplane and passes through the closest training instance."
   ]
  },
  {
   "cell_type": "markdown",
   "id": "05e8910b",
   "metadata": {},
   "source": [
    "#### 3) Why is it important to scale the inputs when using SVMs?\n",
    "**ANS -:** It's important to scale the inputs because SVM uses the distance of instances to predict and that may vary for non-scaled, so to avoid this it's crucial to scale the input first"
   ]
  },
  {
   "cell_type": "markdown",
   "id": "e21bf9cd",
   "metadata": {},
   "source": [
    "#### 4) Can an SVM classifier output a confidence score when it classifies an instance? What about a probability?\n",
    "**ANS -:** No, SVM neither output confidence socre no probability unlike other classifier . It insted claculate length of the image of instances on ***ŵ*** which is perpendicular to support vectors and if this distance is lower than certain value it will call it *class -ve* and if other way call it *class +ve*"
   ]
  },
  {
   "cell_type": "markdown",
   "id": "bba0ef60",
   "metadata": {},
   "source": [
    "#### 5) Say you trained an SVM classifier with an RBF kernel. It seems to underfit the training set: should you increase or decrease γ (gamma)? What about C?\n",
    "**ANS -:** either γ (gamma) or C can be increased (or both of them)"
   ]
  },
  {
   "cell_type": "markdown",
   "id": "68c28ae9",
   "metadata": {},
   "source": [
    "#### 6) Train a LinearSVC on a linearly separable dataset. Then train an SVC and a SGDClassifier on the same dataset. See if you can get them to produce roughly the same model."
   ]
  },
  {
   "cell_type": "code",
   "execution_count": 68,
   "id": "978c2ead",
   "metadata": {},
   "outputs": [
    {
     "data": {
      "image/png": "[encoded data removed]",
      "text/plain": [
       "<Figure size 300x300 with 1 Axes>"
      ]
     },
     "metadata": {},
     "output_type": "display_data"
    }
   ],
   "source": [
    "import numpy as np\n",
    "import matplotlib.pyplot as plt\n",
    "from joblib import load\n",
    "\n",
    "#### creating dummy linearly seprable dataset ####\n",
    "data = load('ex_data/lin_data.pkl')\n",
    "X = data[0]\n",
    "y_a = data[1]\n",
    "y_b = data[2]\n",
    "\n",
    "plt.figure(figsize=(3,3))\n",
    "plt.plot(X,y_a,'b.')\n",
    "plt.plot(X,y_b,'r.')\n",
    "plt.xticks([-1,0,1,2])\n",
    "plt.show()\n",
    "\n",
    "trues = np.concatenate((X,y_a,np.ones((10,1))),axis=1)\n",
    "falses = np.concatenate((X,y_b,np.zeros((10,1))),axis=1)\n",
    "\n",
    "final_data = np.concatenate((trues,falses),axis=0)\n",
    "np.random.shuffle(final_data)"
   ]
  },
  {
   "cell_type": "code",
   "execution_count": 69,
   "id": "f9ece8ab",
   "metadata": {},
   "outputs": [],
   "source": [
    "#### training and comparing different model ####\n",
    "from sklearn.svm import LinearSVC\n",
    "from sklearn.svm import SVC\n",
    "from sklearn.linear_model import SGDClassifier\n",
    "\n",
    "lin_svc = LinearSVC(C=50)\n",
    "svc = SVC(kernel='linear',C=1)\n",
    "SGDC = SGDClassifier(loss='hinge',alpha=0.001)"
   ]
  },
  {
   "cell_type": "code",
   "execution_count": 70,
   "id": "1692e8ae",
   "metadata": {},
   "outputs": [],
   "source": [
    "import pandas as pd \n",
    "df = pd.DataFrame(final_data,columns=['X1','X2','y'])"
   ]
  },
  {
   "cell_type": "code",
   "execution_count": 71,
   "id": "dab615d7",
   "metadata": {},
   "outputs": [
    {
     "data": {
      "image/png": "[encoded data removed]",
      "text/plain": [
       "<Figure size 300x300 with 1 Axes>"
      ]
     },
     "metadata": {},
     "output_type": "display_data"
    },
    {
     "name": "stdout",
     "output_type": "stream",
     "text": [
      "[1.]\n"
     ]
    }
   ],
   "source": [
    "X = df.drop('y',axis=1).values\n",
    "y = df['y'].values\n",
    "\n",
    "lin_svc.fit(X,y)\n",
    "\n",
    "#### plotting result ####\n",
    "plt.figure(figsize=(3,3))\n",
    "plt.plot(df['X1'][df['y']==0],df['X2'][df['y']==0],'b.')\n",
    "plt.plot(df['X1'][df['y']==1],df['X2'][df['y']==1],'r.')\n",
    "\n",
    "w = lin_svc.coef_[0]\n",
    "b = lin_svc.intercept_[0]\n",
    "\n",
    "# At the decision boundary, w0*x0 + w1*x1 + b = 0\n",
    "# => x1 = -w0/w1 * x0 - b/w1\n",
    "\n",
    "x0 = np.linspace(-1,2,100)\n",
    "y0 = -w[0]/w[1] * x0 - b/w[1]\n",
    "margin = 1/w[1]\n",
    "\n",
    "plt.plot(x0,y0,'g-')\n",
    "plt.plot(x0,y0+margin,'g--')\n",
    "plt.plot(x0,y0-margin,'g--')\n",
    "\n",
    "plt.show()\n",
    "print(lin_svc.predict([[0.5,0.5]]))"
   ]
  },
  {
   "cell_type": "code",
   "execution_count": 72,
   "id": "2d7cac89",
   "metadata": {},
   "outputs": [
    {
     "data": {
      "text/plain": [
       "array([1.])"
      ]
     },
     "execution_count": 72,
     "metadata": {},
     "output_type": "execute_result"
    }
   ],
   "source": [
    "svc.fit(X,y)\n",
    "svc.predict([[0.5,0.5]])"
   ]
  },
  {
   "cell_type": "code",
   "execution_count": 73,
   "id": "7251d173",
   "metadata": {},
   "outputs": [
    {
     "data": {
      "text/plain": [
       "array([1.])"
      ]
     },
     "execution_count": 73,
     "metadata": {},
     "output_type": "execute_result"
    }
   ],
   "source": [
    "SGDC.fit(X,y)\n",
    "SGDC.predict([[0.5,0.5]])"
   ]
  },
  {
   "cell_type": "markdown",
   "id": "79ef5899",
   "metadata": {},
   "source": [
    "***Indeed all three classifier ie. LinearSVC(),SCV(),SGDClassifier() give roughly same result***"
   ]
  },
  {
   "cell_type": "markdown",
   "id": "4b79652e",
   "metadata": {},
   "source": [
    "#### Train an SVM classifier on the MNIST dataset. Since SVM classifiers are binary classifiers, you will need to use one-versus-all to classify all 10 digits. You may want to tune the hyperparameters using small validation sets to speed up the process. What accuracy can you reach?"
   ]
  },
  {
   "cell_type": "code",
   "execution_count": 74,
   "id": "18a0d986",
   "metadata": {},
   "outputs": [],
   "source": [
    "from scipy.io import loadmat\n",
    "\n",
    "mnist = loadmat(\"ex_data/mnist-original.mat\")\n",
    "X_mnist = mnist['data'].T\n",
    "Y_mnist = np.array(mnist['label'][0])\n",
    "\n",
    "df = pd.DataFrame(X_mnist,columns=[f'px{i}' for i in range(0,784)])\n",
    "df['y'] = Y_mnist\n",
    "df=df.sample(frac=1) #shuffling data\n",
    "\n",
    "final_data = df[:1000]"
   ]
  },
  {
   "cell_type": "code",
   "execution_count": 75,
   "id": "2033c621",
   "metadata": {},
   "outputs": [],
   "source": [
    "from sklearn.model_selection import train_test_split\n",
    "from sklearn.metrics import accuracy_score\n",
    "\n",
    "X = final_data.drop('y',axis=1).values\n",
    "y = final_data['y'].values\n",
    "\n",
    "X_train,X_test,y_train,y_test = train_test_split(X,y,test_size=0.2)"
   ]
  },
  {
   "cell_type": "code",
   "execution_count": 76,
   "id": "95668216",
   "metadata": {},
   "outputs": [
    {
     "name": "stdout",
     "output_type": "stream",
     "text": [
      "0.77\n"
     ]
    }
   ],
   "source": [
    "multiclass_model = LinearSVC(loss='hinge',multi_class='ovr',max_iter=2500)\n",
    "multiclass_model.fit(X_train,y_train)\n",
    "\n",
    "#### accuracy(without hypertuning) ####\n",
    "y_pred = multiclass_model.predict(X_test)\n",
    "print(accuracy_score(y_test,y_pred))"
   ]
  },
  {
   "cell_type": "markdown",
   "id": "221fdc21",
   "metadata": {},
   "source": [
    "#### Train an SVM regressor on the California housing dataset"
   ]
  },
  {
   "cell_type": "code",
   "execution_count": 77,
   "id": "4098ab50",
   "metadata": {},
   "outputs": [],
   "source": [
    "import pandas as pd\n",
    "import numpy as np\n",
    "\n",
    "data = pd.read_csv('ex_data/housing.csv')\n",
    "\n",
    "ocean_encoding_dict = data.groupby(['ocean_proximity'])['median_house_value'].mean().sort_values().to_dict()\n",
    "\n",
    "encoded_dict = {list(ocean_encoding_dict.keys())[i]:i for i in range(len(ocean_encoding_dict))}\n",
    "\n",
    "data['ocean_proximity'] = data['ocean_proximity'].map(encoded_dict)\n",
    "\n",
    "for i in data.columns:\n",
    "    data[i].fillna(data[i].mean(),inplace=True)\n",
    "    "
   ]
  },
  {
   "cell_type": "code",
   "execution_count": 78,
   "id": "420abbe0",
   "metadata": {},
   "outputs": [],
   "source": [
    "from sklearn.svm import SVR\n",
    "from sklearn.pipeline import Pipeline\n",
    "from sklearn.preprocessing import StandardScaler\n",
    "from sklearn.ensemble import RandomForestRegressor\n",
    "\n",
    "SV_regressor = Pipeline([\n",
    "    ('scaler',StandardScaler()),\n",
    "    ('regressor',SVR())\n",
    "])\n",
    "\n",
    "random_forest_regressor = Pipeline([\n",
    "    ('scaler',StandardScaler()),\n",
    "    ('regressor',RandomForestRegressor())\n",
    "])"
   ]
  },
  {
   "cell_type": "code",
   "execution_count": 79,
   "id": "f90d3c5f",
   "metadata": {},
   "outputs": [
    {
     "name": "stdout",
     "output_type": "stream",
     "text": [
      "\n",
      "RMSE for RandomForest : 55740.15504444471\n",
      "RMSE for SVR          : 118631.42255803454\n",
      "\n"
     ]
    }
   ],
   "source": [
    "from sklearn.model_selection import train_test_split\n",
    "\n",
    "X_train,X_test,y_train,y_test = train_test_split(data.drop('median_house_value',axis=1),\n",
    "                                                 data['median_house_value'],\n",
    "                                                 train_size=0.2\n",
    "                                                )\n",
    "random_forest_regressor.fit(X_train,y_train)\n",
    "SV_regressor.fit(X_train,y_train)\n",
    "\n",
    "#### accuracy ####\n",
    "from sklearn.metrics import mean_squared_error\n",
    "y_rfr = random_forest_regressor.predict(X_test)\n",
    "y_svr = SV_regressor.predict(X_test)\n",
    "\n",
    "print(f'''\n",
    "RMSE for RandomForest : {mean_squared_error(y_test,y_rfr,squared=False)}\n",
    "RMSE for SVR          : {mean_squared_error(y_test,y_svr,squared=False)}\n",
    "''')"
   ]
  },
  {
   "cell_type": "code",
   "execution_count": null,
   "id": "e85766d0",
   "metadata": {},
   "outputs": [],
   "source": []
  }
 ],
 "metadata": {
  "kernelspec": {
   "display_name": "Python 3 (ipykernel)",
   "language": "python",
   "name": "python3"
  },
  "language_info": {
   "codemirror_mode": {
    "name": "ipython",
    "version": 3
   },
   "file_extension": ".py",
   "mimetype": "text/x-python",
   "name": "python",
   "nbconvert_exporter": "python",
   "pygments_lexer": "ipython3",
   "version": "3.10.6"
  }
 },
 "nbformat": 4,
 "nbformat_minor": 5
}
