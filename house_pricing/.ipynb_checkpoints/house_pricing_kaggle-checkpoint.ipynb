{
 "cells": [
  {
   "cell_type": "markdown",
   "id": "a673017d",
   "metadata": {},
   "source": [
    "# House Pricing"
   ]
  },
  {
   "cell_type": "code",
   "execution_count": 2,
   "id": "88d698a2",
   "metadata": {},
   "outputs": [],
   "source": [
    "##### Importing Library #####\n",
    "import numpy as np\n",
    "import pandas as pd\n",
    "import matplotlib.pyplot as plt\n",
    "import seaborn as sns"
   ]
  },
  {
   "cell_type": "code",
   "execution_count": 5,
   "id": "7cb8dcef",
   "metadata": {},
   "outputs": [],
   "source": [
    "##### Data loading #####\n",
    "train_data = pd.read_csv('data/train.csv')\n",
    "test_data = pd.read_csv('data/test.csv')"
   ]
  },
  {
   "cell_type": "code",
   "execution_count": 9,
   "id": "719d426e",
   "metadata": {},
   "outputs": [],
   "source": [
    "##### Train and Validation Split #####\n",
    "X = train_data.drop('SalePrice',axis=1)\n",
    "y = train_data['SalePrice']\n",
    "from sklearn.model_selection import train_test_split\n",
    "X_train , X_val , y_train , y_val = train_test_split(X,y,test_size=0.25)"
   ]
  },
  {
   "cell_type": "markdown",
   "id": "f3c2f0d7",
   "metadata": {},
   "source": [
    "### Feature Eng. / Data preprocessing"
   ]
  },
  {
   "cell_type": "code",
   "execution_count": 12,
   "id": "cc515af0",
   "metadata": {},
   "outputs": [
    {
     "name": "stdout",
     "output_type": "stream",
     "text": [
      "<class 'pandas.core.frame.DataFrame'>\n",
      "Int64Index: 1095 entries, 1234 to 857\n",
      "Data columns (total 80 columns):\n",
      " #   Column         Non-Null Count  Dtype  \n",
      "---  ------         --------------  -----  \n",
      " 0   Id             1095 non-null   int64  \n",
      " 1   MSSubClass     1095 non-null   int64  \n",
      " 2   MSZoning       1095 non-null   object \n",
      " 3   LotFrontage    910 non-null    float64\n",
      " 4   LotArea        1095 non-null   int64  \n",
      " 5   Street         1095 non-null   object \n",
      " 6   Alley          75 non-null     object \n",
      " 7   LotShape       1095 non-null   object \n",
      " 8   LandContour    1095 non-null   object \n",
      " 9   Utilities      1095 non-null   object \n",
      " 10  LotConfig      1095 non-null   object \n",
      " 11  LandSlope      1095 non-null   object \n",
      " 12  Neighborhood   1095 non-null   object \n",
      " 13  Condition1     1095 non-null   object \n",
      " 14  Condition2     1095 non-null   object \n",
      " 15  BldgType       1095 non-null   object \n",
      " 16  HouseStyle     1095 non-null   object \n",
      " 17  OverallQual    1095 non-null   int64  \n",
      " 18  OverallCond    1095 non-null   int64  \n",
      " 19  YearBuilt      1095 non-null   int64  \n",
      " 20  YearRemodAdd   1095 non-null   int64  \n",
      " 21  RoofStyle      1095 non-null   object \n",
      " 22  RoofMatl       1095 non-null   object \n",
      " 23  Exterior1st    1095 non-null   object \n",
      " 24  Exterior2nd    1095 non-null   object \n",
      " 25  MasVnrType     1089 non-null   object \n",
      " 26  MasVnrArea     1089 non-null   float64\n",
      " 27  ExterQual      1095 non-null   object \n",
      " 28  ExterCond      1095 non-null   object \n",
      " 29  Foundation     1095 non-null   object \n",
      " 30  BsmtQual       1069 non-null   object \n",
      " 31  BsmtCond       1069 non-null   object \n",
      " 32  BsmtExposure   1068 non-null   object \n",
      " 33  BsmtFinType1   1069 non-null   object \n",
      " 34  BsmtFinSF1     1095 non-null   int64  \n",
      " 35  BsmtFinType2   1069 non-null   object \n",
      " 36  BsmtFinSF2     1095 non-null   int64  \n",
      " 37  BsmtUnfSF      1095 non-null   int64  \n",
      " 38  TotalBsmtSF    1095 non-null   int64  \n",
      " 39  Heating        1095 non-null   object \n",
      " 40  HeatingQC      1095 non-null   object \n",
      " 41  CentralAir     1095 non-null   object \n",
      " 42  Electrical     1094 non-null   object \n",
      " 43  1stFlrSF       1095 non-null   int64  \n",
      " 44  2ndFlrSF       1095 non-null   int64  \n",
      " 45  LowQualFinSF   1095 non-null   int64  \n",
      " 46  GrLivArea      1095 non-null   int64  \n",
      " 47  BsmtFullBath   1095 non-null   int64  \n",
      " 48  BsmtHalfBath   1095 non-null   int64  \n",
      " 49  FullBath       1095 non-null   int64  \n",
      " 50  HalfBath       1095 non-null   int64  \n",
      " 51  BedroomAbvGr   1095 non-null   int64  \n",
      " 52  KitchenAbvGr   1095 non-null   int64  \n",
      " 53  KitchenQual    1095 non-null   object \n",
      " 54  TotRmsAbvGrd   1095 non-null   int64  \n",
      " 55  Functional     1095 non-null   object \n",
      " 56  Fireplaces     1095 non-null   int64  \n",
      " 57  FireplaceQu    574 non-null    object \n",
      " 58  GarageType     1028 non-null   object \n",
      " 59  GarageYrBlt    1028 non-null   float64\n",
      " 60  GarageFinish   1028 non-null   object \n",
      " 61  GarageCars     1095 non-null   int64  \n",
      " 62  GarageArea     1095 non-null   int64  \n",
      " 63  GarageQual     1028 non-null   object \n",
      " 64  GarageCond     1028 non-null   object \n",
      " 65  PavedDrive     1095 non-null   object \n",
      " 66  WoodDeckSF     1095 non-null   int64  \n",
      " 67  OpenPorchSF    1095 non-null   int64  \n",
      " 68  EnclosedPorch  1095 non-null   int64  \n",
      " 69  3SsnPorch      1095 non-null   int64  \n",
      " 70  ScreenPorch    1095 non-null   int64  \n",
      " 71  PoolArea       1095 non-null   int64  \n",
      " 72  PoolQC         4 non-null      object \n",
      " 73  Fence          214 non-null    object \n",
      " 74  MiscFeature    41 non-null     object \n",
      " 75  MiscVal        1095 non-null   int64  \n",
      " 76  MoSold         1095 non-null   int64  \n",
      " 77  YrSold         1095 non-null   int64  \n",
      " 78  SaleType       1095 non-null   object \n",
      " 79  SaleCondition  1095 non-null   object \n",
      "dtypes: float64(3), int64(34), object(43)\n",
      "memory usage: 692.9+ KB\n"
     ]
    }
   ],
   "source": [
    "X_train.info()"
   ]
  },
  {
   "cell_type": "markdown",
   "id": "1c1428ca",
   "metadata": {},
   "source": [
    "### Feature Selection"
   ]
  },
  {
   "cell_type": "code",
   "execution_count": 10,
   "id": "efee45b7",
   "metadata": {},
   "outputs": [
    {
     "ename": "ValueError",
     "evalue": "could not convert string to float: 'RH'",
     "output_type": "error",
     "traceback": [
      "\u001b[0;31m---------------------------------------------------------------------------\u001b[0m",
      "\u001b[0;31mValueError\u001b[0m                                Traceback (most recent call last)",
      "Cell \u001b[0;32mIn [10], line 3\u001b[0m\n\u001b[1;32m      1\u001b[0m \u001b[38;5;28;01mfrom\u001b[39;00m \u001b[38;5;21;01msklearn\u001b[39;00m\u001b[38;5;21;01m.\u001b[39;00m\u001b[38;5;21;01mfeature_selection\u001b[39;00m \u001b[38;5;28;01mimport\u001b[39;00m VarianceThreshold\n\u001b[1;32m      2\u001b[0m var_thr \u001b[38;5;241m=\u001b[39m VarianceThreshold(threshold\u001b[38;5;241m=\u001b[39m\u001b[38;5;241m0\u001b[39m) \u001b[38;5;66;03m#constant Feature\u001b[39;00m\n\u001b[0;32m----> 3\u001b[0m var_thr\u001b[38;5;241m.\u001b[39mfit(X_train)\n\u001b[1;32m      5\u001b[0m constant_columns \u001b[38;5;241m=\u001b[39m [column \u001b[38;5;28;01mfor\u001b[39;00m column \u001b[38;5;129;01min\u001b[39;00m X_train\u001b[38;5;241m.\u001b[39mcolumns \n\u001b[1;32m      6\u001b[0m                     \u001b[38;5;28;01mif\u001b[39;00m column \u001b[38;5;129;01mnot\u001b[39;00m \u001b[38;5;129;01min\u001b[39;00m X_train\u001b[38;5;241m.\u001b[39mcolumns[var_thr\u001b[38;5;241m.\u001b[39mget_support()]]\n\u001b[1;32m      7\u001b[0m constant_columns\n",
      "File \u001b[0;32m~/.local/lib/python3.10/site-packages/sklearn/feature_selection/_variance_threshold.py:91\u001b[0m, in \u001b[0;36mVarianceThreshold.fit\u001b[0;34m(self, X, y)\u001b[0m\n\u001b[1;32m     73\u001b[0m \u001b[38;5;28;01mdef\u001b[39;00m \u001b[38;5;21mfit\u001b[39m(\u001b[38;5;28mself\u001b[39m, X, y\u001b[38;5;241m=\u001b[39m\u001b[38;5;28;01mNone\u001b[39;00m):\n\u001b[1;32m     74\u001b[0m     \u001b[38;5;124;03m\"\"\"Learn empirical variances from X.\u001b[39;00m\n\u001b[1;32m     75\u001b[0m \n\u001b[1;32m     76\u001b[0m \u001b[38;5;124;03m    Parameters\u001b[39;00m\n\u001b[0;32m   (...)\u001b[0m\n\u001b[1;32m     89\u001b[0m \u001b[38;5;124;03m        Returns the instance itself.\u001b[39;00m\n\u001b[1;32m     90\u001b[0m \u001b[38;5;124;03m    \"\"\"\u001b[39;00m\n\u001b[0;32m---> 91\u001b[0m     X \u001b[38;5;241m=\u001b[39m \u001b[38;5;28;43mself\u001b[39;49m\u001b[38;5;241;43m.\u001b[39;49m\u001b[43m_validate_data\u001b[49m\u001b[43m(\u001b[49m\n\u001b[1;32m     92\u001b[0m \u001b[43m        \u001b[49m\u001b[43mX\u001b[49m\u001b[43m,\u001b[49m\n\u001b[1;32m     93\u001b[0m \u001b[43m        \u001b[49m\u001b[43maccept_sparse\u001b[49m\u001b[38;5;241;43m=\u001b[39;49m\u001b[43m(\u001b[49m\u001b[38;5;124;43m\"\u001b[39;49m\u001b[38;5;124;43mcsr\u001b[39;49m\u001b[38;5;124;43m\"\u001b[39;49m\u001b[43m,\u001b[49m\u001b[43m \u001b[49m\u001b[38;5;124;43m\"\u001b[39;49m\u001b[38;5;124;43mcsc\u001b[39;49m\u001b[38;5;124;43m\"\u001b[39;49m\u001b[43m)\u001b[49m\u001b[43m,\u001b[49m\n\u001b[1;32m     94\u001b[0m \u001b[43m        \u001b[49m\u001b[43mdtype\u001b[49m\u001b[38;5;241;43m=\u001b[39;49m\u001b[43mnp\u001b[49m\u001b[38;5;241;43m.\u001b[39;49m\u001b[43mfloat64\u001b[49m\u001b[43m,\u001b[49m\n\u001b[1;32m     95\u001b[0m \u001b[43m        \u001b[49m\u001b[43mforce_all_finite\u001b[49m\u001b[38;5;241;43m=\u001b[39;49m\u001b[38;5;124;43m\"\u001b[39;49m\u001b[38;5;124;43mallow-nan\u001b[39;49m\u001b[38;5;124;43m\"\u001b[39;49m\u001b[43m,\u001b[49m\n\u001b[1;32m     96\u001b[0m \u001b[43m    \u001b[49m\u001b[43m)\u001b[49m\n\u001b[1;32m     98\u001b[0m     \u001b[38;5;28;01mif\u001b[39;00m \u001b[38;5;28mhasattr\u001b[39m(X, \u001b[38;5;124m\"\u001b[39m\u001b[38;5;124mtoarray\u001b[39m\u001b[38;5;124m\"\u001b[39m):  \u001b[38;5;66;03m# sparse matrix\u001b[39;00m\n\u001b[1;32m     99\u001b[0m         _, \u001b[38;5;28mself\u001b[39m\u001b[38;5;241m.\u001b[39mvariances_ \u001b[38;5;241m=\u001b[39m mean_variance_axis(X, axis\u001b[38;5;241m=\u001b[39m\u001b[38;5;241m0\u001b[39m)\n",
      "File \u001b[0;32m~/.local/lib/python3.10/site-packages/sklearn/base.py:577\u001b[0m, in \u001b[0;36mBaseEstimator._validate_data\u001b[0;34m(self, X, y, reset, validate_separately, **check_params)\u001b[0m\n\u001b[1;32m    575\u001b[0m     \u001b[38;5;28;01mraise\u001b[39;00m \u001b[38;5;167;01mValueError\u001b[39;00m(\u001b[38;5;124m\"\u001b[39m\u001b[38;5;124mValidation should be done on X, y or both.\u001b[39m\u001b[38;5;124m\"\u001b[39m)\n\u001b[1;32m    576\u001b[0m \u001b[38;5;28;01melif\u001b[39;00m \u001b[38;5;129;01mnot\u001b[39;00m no_val_X \u001b[38;5;129;01mand\u001b[39;00m no_val_y:\n\u001b[0;32m--> 577\u001b[0m     X \u001b[38;5;241m=\u001b[39m \u001b[43mcheck_array\u001b[49m\u001b[43m(\u001b[49m\u001b[43mX\u001b[49m\u001b[43m,\u001b[49m\u001b[43m \u001b[49m\u001b[43minput_name\u001b[49m\u001b[38;5;241;43m=\u001b[39;49m\u001b[38;5;124;43m\"\u001b[39;49m\u001b[38;5;124;43mX\u001b[39;49m\u001b[38;5;124;43m\"\u001b[39;49m\u001b[43m,\u001b[49m\u001b[43m \u001b[49m\u001b[38;5;241;43m*\u001b[39;49m\u001b[38;5;241;43m*\u001b[39;49m\u001b[43mcheck_params\u001b[49m\u001b[43m)\u001b[49m\n\u001b[1;32m    578\u001b[0m     out \u001b[38;5;241m=\u001b[39m X\n\u001b[1;32m    579\u001b[0m \u001b[38;5;28;01melif\u001b[39;00m no_val_X \u001b[38;5;129;01mand\u001b[39;00m \u001b[38;5;129;01mnot\u001b[39;00m no_val_y:\n",
      "File \u001b[0;32m~/.local/lib/python3.10/site-packages/sklearn/utils/validation.py:856\u001b[0m, in \u001b[0;36mcheck_array\u001b[0;34m(array, accept_sparse, accept_large_sparse, dtype, order, copy, force_all_finite, ensure_2d, allow_nd, ensure_min_samples, ensure_min_features, estimator, input_name)\u001b[0m\n\u001b[1;32m    854\u001b[0m         array \u001b[38;5;241m=\u001b[39m array\u001b[38;5;241m.\u001b[39mastype(dtype, casting\u001b[38;5;241m=\u001b[39m\u001b[38;5;124m\"\u001b[39m\u001b[38;5;124munsafe\u001b[39m\u001b[38;5;124m\"\u001b[39m, copy\u001b[38;5;241m=\u001b[39m\u001b[38;5;28;01mFalse\u001b[39;00m)\n\u001b[1;32m    855\u001b[0m     \u001b[38;5;28;01melse\u001b[39;00m:\n\u001b[0;32m--> 856\u001b[0m         array \u001b[38;5;241m=\u001b[39m \u001b[43mnp\u001b[49m\u001b[38;5;241;43m.\u001b[39;49m\u001b[43masarray\u001b[49m\u001b[43m(\u001b[49m\u001b[43marray\u001b[49m\u001b[43m,\u001b[49m\u001b[43m \u001b[49m\u001b[43morder\u001b[49m\u001b[38;5;241;43m=\u001b[39;49m\u001b[43morder\u001b[49m\u001b[43m,\u001b[49m\u001b[43m \u001b[49m\u001b[43mdtype\u001b[49m\u001b[38;5;241;43m=\u001b[39;49m\u001b[43mdtype\u001b[49m\u001b[43m)\u001b[49m\n\u001b[1;32m    857\u001b[0m \u001b[38;5;28;01mexcept\u001b[39;00m ComplexWarning \u001b[38;5;28;01mas\u001b[39;00m complex_warning:\n\u001b[1;32m    858\u001b[0m     \u001b[38;5;28;01mraise\u001b[39;00m \u001b[38;5;167;01mValueError\u001b[39;00m(\n\u001b[1;32m    859\u001b[0m         \u001b[38;5;124m\"\u001b[39m\u001b[38;5;124mComplex data not supported\u001b[39m\u001b[38;5;130;01m\\n\u001b[39;00m\u001b[38;5;132;01m{}\u001b[39;00m\u001b[38;5;130;01m\\n\u001b[39;00m\u001b[38;5;124m\"\u001b[39m\u001b[38;5;241m.\u001b[39mformat(array)\n\u001b[1;32m    860\u001b[0m     ) \u001b[38;5;28;01mfrom\u001b[39;00m \u001b[38;5;21;01mcomplex_warning\u001b[39;00m\n",
      "File \u001b[0;32m~/.local/lib/python3.10/site-packages/pandas/core/generic.py:2069\u001b[0m, in \u001b[0;36mNDFrame.__array__\u001b[0;34m(self, dtype)\u001b[0m\n\u001b[1;32m   2068\u001b[0m \u001b[38;5;28;01mdef\u001b[39;00m \u001b[38;5;21m__array__\u001b[39m(\u001b[38;5;28mself\u001b[39m, dtype: npt\u001b[38;5;241m.\u001b[39mDTypeLike \u001b[38;5;241m|\u001b[39m \u001b[38;5;28;01mNone\u001b[39;00m \u001b[38;5;241m=\u001b[39m \u001b[38;5;28;01mNone\u001b[39;00m) \u001b[38;5;241m-\u001b[39m\u001b[38;5;241m>\u001b[39m np\u001b[38;5;241m.\u001b[39mndarray:\n\u001b[0;32m-> 2069\u001b[0m     \u001b[38;5;28;01mreturn\u001b[39;00m \u001b[43mnp\u001b[49m\u001b[38;5;241;43m.\u001b[39;49m\u001b[43masarray\u001b[49m\u001b[43m(\u001b[49m\u001b[38;5;28;43mself\u001b[39;49m\u001b[38;5;241;43m.\u001b[39;49m\u001b[43m_values\u001b[49m\u001b[43m,\u001b[49m\u001b[43m \u001b[49m\u001b[43mdtype\u001b[49m\u001b[38;5;241;43m=\u001b[39;49m\u001b[43mdtype\u001b[49m\u001b[43m)\u001b[49m\n",
      "\u001b[0;31mValueError\u001b[0m: could not convert string to float: 'RH'"
     ]
    }
   ],
   "source": [
    "from sklearn.feature_selection import VarianceThreshold\n",
    "var_thr = VarianceThreshold(threshold=0) #constant Feature\n",
    "var_thr.fit(X_train)\n",
    "\n",
    "constant_columns = [column for column in X_train.columns \n",
    "                    if column not in X_train.columns[var_thr.get_support()]]\n",
    "constant_columns"
   ]
  },
  {
   "cell_type": "code",
   "execution_count": null,
   "id": "c7dcc531",
   "metadata": {},
   "outputs": [],
   "source": []
  }
 ],
 "metadata": {
  "kernelspec": {
   "display_name": "Python 3 (ipykernel)",
   "language": "python",
   "name": "python3"
  },
  "language_info": {
   "codemirror_mode": {
    "name": "ipython",
    "version": 3
   },
   "file_extension": ".py",
   "mimetype": "text/x-python",
   "name": "python",
   "nbconvert_exporter": "python",
   "pygments_lexer": "ipython3",
   "version": "3.10.6"
  }
 },
 "nbformat": 4,
 "nbformat_minor": 5
}
