{
 "cells": [
  {
   "cell_type": "markdown",
   "id": "58d193a8",
   "metadata": {},
   "source": [
    "### SVM (Support Vector Machiene)\n",
    "* The goal of the SVM algorithm is to create the best line or decision boundary that can segregate n-dimensional space into classes , SVM chooses the extreme points/vectors that help in creating the hyperplane. These extreme cases are called as support vectors<br>\n",
    "<img src='https://miro.medium.com/max/581/1*-4FOSXGyV6CSUOrOPEFc9g.png' width=250px>"
   ]
  },
  {
   "cell_type": "markdown",
   "id": "37a9bbb0",
   "metadata": {},
   "source": [
    "### Linear SVM Classification\n",
    "***\n",
    "#### Soft Margin Classification\n",
    "* If we strictly impose that all instances be off the street and on the right side, this is\n",
    "called ***hard margin classification*** , the problem with this is that its only possible for linearly seprable data and its sensitive to outliers\n",
    "* The solution is to use a more flexible model ie to maintain a balance between the maximun-margin and ***margin-voilations*** (instances that end up on the streen/margin or on the wrong side)\n",
    "* The balance can be controlled by ***C*** hyperparameter in sklearn's SVM classes , with high C value margin-voilation will be minimum but margin-width will also become low and contrary otherwise"
   ]
  },
  {
   "cell_type": "code",
   "execution_count": 2,
   "id": "ea2abe47",
   "metadata": {},
   "outputs": [],
   "source": [
    "import numpy as np\n",
    "from sklearn.datasets import load_iris #iris-flower dataset\n",
    "from sklearn.pipeline import Pipeline #to form pipeline\n",
    "from sklearn.svm import LinearSVC #importing linear classifier\n",
    "from sklearn.preprocessing import StandardScaler #to scale down data as SVMs are sensitive to feture scale"
   ]
  },
  {
   "cell_type": "code",
   "execution_count": 3,
   "id": "a8bc4ae0",
   "metadata": {},
   "outputs": [
    {
     "name": "stderr",
     "output_type": "stream",
     "text": [
      "/home/ashish/.local/lib/python3.10/site-packages/sklearn/svm/_base.py:1225: ConvergenceWarning: Liblinear failed to converge, increase the number of iterations.\n",
      "  warnings.warn(\n"
     ]
    },
    {
     "data": {
      "text/plain": [
       "array([2])"
      ]
     },
     "execution_count": 3,
     "metadata": {},
     "output_type": "execute_result"
    }
   ],
   "source": [
    "data = load_iris()\n",
    "X = data.data[:,(2,3)] # using only petal-length and petal-width\n",
    "y = data.target\n",
    "\n",
    "svm_clf = Pipeline([\n",
    "    ('scaler',StandardScaler()),\n",
    "    ('model',LinearSVC(C=1,loss='hinge'))\n",
    "])\n",
    "\n",
    "svm_clf.fit(X,y)\n",
    "\n",
    "svm_clf.predict([[1.2,3.8]])\n",
    "\n",
    "#test case belong to second class"
   ]
  },
  {
   "cell_type": "markdown",
   "id": "39be1006",
   "metadata": {},
   "source": [
    "***Alternatives for LinearSVC()***\n",
    "***\n",
    "1) SVC(kernel='linear',C=1) <br>\n",
    "2) SGDClassifer(loss='hinge' , alpha = 1/(m * C)) its not as fast as LinearSVC() but can be used to handle large data that can't be fit in memory or online classification"
   ]
  },
  {
   "cell_type": "markdown",
   "id": "d9e20f85",
   "metadata": {},
   "source": [
    "### NonLinear SVM Classification\n",
    "* Linear SVM classifier is efficient and work well , but some dataset as not even close to be linear classification\n",
    "* The solution is to add more feature ie. to increase the degree of dataset then seprate linearly"
   ]
  },
  {
   "cell_type": "code",
   "execution_count": 38,
   "id": "f6dc57c1",
   "metadata": {},
   "outputs": [
    {
     "data": {
      "image/png": "[encoded data removed]",
      "text/plain": [
       "<Figure size 425x325 with 1 Axes>"
      ]
     },
     "metadata": {},
     "output_type": "display_data"
    }
   ],
   "source": [
    "from sklearn.datasets import make_moons\n",
    "import matplotlib.pyplot as plt\n",
    "X,y = make_moons(noise=0.12)\n",
    "def plt_dataset(X,y):\n",
    "    plt.figure(figsize=(4.25,3.25))\n",
    "    plt.plot(X[:,0][y == 0],X[:,1][y == 0],'b.',label='0')\n",
    "    plt.plot(X[:,0][y == 1],X[:,1][y == 1],'r.',label='1')\n",
    "    plt.xticks([-1.5,-1,-0.5,0,0.5,1,1.5,2,2.5])\n",
    "    plt.yticks([-1,-0.5,0,0.5,1,1.5])\n",
    "    plt.grid(True)\n",
    "    plt.legend()\n",
    "    plt.show()\n",
    "plt_dataset(X,y)"
   ]
  },
  {
   "cell_type": "code",
   "execution_count": null,
   "id": "a763be47",
   "metadata": {},
   "outputs": [],
   "source": [
    "0"
   ]
  }
 ],
 "metadata": {
  "kernelspec": {
   "display_name": "Python 3 (ipykernel)",
   "language": "python",
   "name": "python3"
  },
  "language_info": {
   "codemirror_mode": {
    "name": "ipython",
    "version": 3
   },
   "file_extension": ".py",
   "mimetype": "text/x-python",
   "name": "python",
   "nbconvert_exporter": "python",
   "pygments_lexer": "ipython3",
   "version": "3.10.6"
  }
 },
 "nbformat": 4,
 "nbformat_minor": 5
}
