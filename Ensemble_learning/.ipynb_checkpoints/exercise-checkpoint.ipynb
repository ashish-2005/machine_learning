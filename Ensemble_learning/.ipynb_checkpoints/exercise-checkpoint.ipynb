{
 "cells": [
  {
   "cell_type": "markdown",
   "id": "106bcf94",
   "metadata": {},
   "source": [
    "### ***Ensemble learning exercise***"
   ]
  },
  {
   "cell_type": "markdown",
   "id": "cf217bf5",
   "metadata": {},
   "source": [
    "##### 1) If you have trained five different models on the exact same training data, and they all achieve 95% precision, is there any chance that you can combine these models to get better results? If so, how? If not, why?\n",
    "***ANS :-*** Yes we can achieve more than 95% accuracy even though each model have only accuracy of 95% itself,this is because some models are guessing some instance right and some other models are guessing other right. This logic will be applicable till models are different , ie. either algorithim is defferent or train_data they are trained on are different <br>\n",
    "Since , each model have accuracy of 95% we cannot reduce importance/weight of any model so AdaBoosting is not an option hence we can use hard-voting"
   ]
  },
  {
   "cell_type": "markdown",
   "id": "b255502a",
   "metadata": {},
   "source": [
    "##### 2)What is the difference between hard and soft voting classifiers?\n",
    "***ANS :-*** Using the majority predicted class as final prediction is called **Hard-Voting**<br>\n",
    "Whereas using class with highest averaged probability as final prediction is called **Soft-Voting**"
   ]
  },
  {
   "cell_type": "markdown",
   "id": "f03e1e9d",
   "metadata": {},
   "source": [
    "##### 3) Is it possible to speed up training of a bagging ensemble by distributing it across multiple servers? What about pasting ensembles, boosting ensembles, random forests, or stacking ensembles?\n",
    "***ANS :-*** It is possible to speed up training of bagging, pasting, and random forests because each predictor is independent of the others.<br>\n",
    "boosting ensemble predictors are built based on the previous predictor, so you separating training will not help.<br>\n",
    "For stacking ensembles, all predictors for one layer has to be trained before the next layer."
   ]
  },
  {
   "cell_type": "markdown",
   "id": "8a5aa13e",
   "metadata": {},
   "source": [
    "##### 4) What is the benefit of out-of-bag evaluation?\n",
    "***ANS :-*** Out-of-bag data are the training instances that left because of random selection in bagging and pasting.<br>\n",
    "Its major benifit is that , you need no extra data for validation these unseen instances can be used as validation-set"
   ]
  },
  {
   "cell_type": "markdown",
   "id": "5066a54d",
   "metadata": {},
   "source": [
    "##### 5) What makes Extra-Trees more random than regular Random Forests? How can this extra randomness help? Are Extra-Trees slower or faster than regular Random Forests?\n",
    "***ANS :-*** Extra-Trees get their randomness from the fact that , insted of finding best-threshold for feature like DecisionTree(base_estimator for RandomForest) it take random threshold.<br>\n",
    "This extra Randomness trade a *little bias for better varience*<br>\n",
    "Extra Trees is much *faster*. This is because instead of looking for the optimal split at each node it does it randomly"
   ]
  },
  {
   "cell_type": "markdown",
   "id": "5d98477d",
   "metadata": {},
   "source": [
    "##### 6) your AdaBoost ensemble underfits the training data,what hyperparameters you tweak and how?\n",
    "***ANS :-*** We can increase the number of estimators(*n_estimators*) , we can reduce the regulerization on *base_estimator* , and we can also increse the *learning_rate*"
   ]
  },
  {
   "cell_type": "markdown",
   "id": "399eba5b",
   "metadata": {},
   "source": [
    "##### 7) If your Gradient Boosting ensemble overfits the training set, should you increase or decrease the learning rate?\n",
    "***ANS :-*** We can use early stopping(because more estimator lead to overfitting) , reducing n_estimators , reducing learning rate"
   ]
  },
  {
   "cell_type": "code",
   "execution_count": null,
   "id": "68681d44",
   "metadata": {},
   "outputs": [],
   "source": []
  }
 ],
 "metadata": {
  "kernelspec": {
   "display_name": "Python 3 (ipykernel)",
   "language": "python",
   "name": "python3"
  },
  "language_info": {
   "codemirror_mode": {
    "name": "ipython",
    "version": 3
   },
   "file_extension": ".py",
   "mimetype": "text/x-python",
   "name": "python",
   "nbconvert_exporter": "python",
   "pygments_lexer": "ipython3",
   "version": "3.10.6"
  }
 },
 "nbformat": 4,
 "nbformat_minor": 5
}
