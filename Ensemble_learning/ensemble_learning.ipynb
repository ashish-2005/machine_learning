{
 "cells": [
  {
   "cell_type": "markdown",
   "id": "2c229fbd",
   "metadata": {},
   "source": [
    "### ***Ensemble Learning***\n",
    "The idea is based on ***wisdom of crowd*** , ie. if we give a complex problem to 1000 random people , we will find their aggregated answer is better than an expert's answer"
   ]
  },
  {
   "cell_type": "markdown",
   "id": "e1a89c40",
   "metadata": {},
   "source": [
    "#### Voting classifiers\n",
    "* We traing multiple classifier then return prediction which is most-common/frequent/mode in the prediction made by individual classifiers , this is called *hard-voting classifier*\n",
    "* It's based on *Law of large numbers* , ie. if take 1000 of *weak* classifier with only 51% accuracy and use hard-voting we can hope for accuracy around 75% | condition : all individual classifier must be trained on different dataset as same classifier trained on same dataset will make same mistake , which is of no good"
   ]
  },
  {
   "cell_type": "code",
   "execution_count": 87,
   "id": "148588ab",
   "metadata": {},
   "outputs": [],
   "source": [
    "from sklearn.datasets import make_moons\n",
    "from sklearn.model_selection import train_test_split\n",
    "from sklearn.svm import SVC\n",
    "from sklearn.linear_model import LogisticRegression\n",
    "from sklearn.ensemble import RandomForestClassifier\n",
    "from sklearn.ensemble import VotingClassifier\n",
    "\n",
    "X,y = make_moons(n_samples=500,noise=0.4,random_state=42)\n",
    "X_train,X_test,y_train,y_test = train_test_split(X,y,test_size=0.2,random_state=42)\n",
    "\n",
    "ln_reg = LogisticRegression(random_state=42)\n",
    "svc = SVC(gamma='scale',random_state=42)\n",
    "rfc = RandomForestClassifier(random_state=42)\n",
    "\n",
    "voting_clf = VotingClassifier(estimators=[('lr',ln_reg),('svc',svc),('rfc',rfc)],\n",
    "                              voting='hard')"
   ]
  },
  {
   "cell_type": "code",
   "execution_count": 88,
   "id": "1630a4dc",
   "metadata": {},
   "outputs": [
    {
     "name": "stdout",
     "output_type": "stream",
     "text": [
      "LogisticRegression : 0.83\n",
      "SVC : 0.83\n",
      "RandomForestClassifier : 0.81\n",
      "VotingClassifier : 0.84\n"
     ]
    }
   ],
   "source": [
    "from sklearn.metrics import accuracy_score\n",
    "\n",
    "for clf in (ln_reg,svc,rfc,voting_clf):\n",
    "    clf.fit(X_train,y_train)\n",
    "    y_pred = clf.predict(X_test)\n",
    "    print(clf.__class__.__name__,\":\",accuracy_score(y_test,y_pred))"
   ]
  },
  {
   "cell_type": "markdown",
   "id": "4cac71ab",
   "metadata": {},
   "source": [
    "*if all the classifiers used in voting-classifier are able to estimate class-probability(ie if it has predict_proba() method) then we can return class with highest average-probability in all classes , this is called soft-voting and genrelly performs better as it give weight to more confident class.*<br><br>\n",
    "All we need is to change parameter *voting* from 'hard' to 'soft'"
   ]
  },
  {
   "cell_type": "markdown",
   "id": "e81fdec8",
   "metadata": {},
   "source": [
    "#### Bagging (bootstrap aggregating) and Pasting\n",
    "* One way to produce diverse classifiers is to use totaly different algorithms as discussed above another way is to use the same algorithm but training it with random subset of training dataset\n",
    "* When these subset were formed *with* replacement(ie. One instance can ouccur in two or more subset) is called ***bagging*** and without replacement(unique instance in all subset) called ***pasting***\n",
    "* Once all predictors are trained then we can return aggregated prediction ie. *Statistical mode*(just like hard-voting) and return average in case of regression<br><br>\n",
    "\n",
    "*BaggingClassifier() automatically uses soft-voting if provided classifier has predict_proba() method*<br>\n",
    "*generelly bagging result model with comparable bias but lower variance than the estimator it made up on*<br><br>\n",
    "\n",
    "***OOB instances*** : in bagging some instance might occured multiple time but some do not occur at all , these instance are called out-of-bag instance(OOB) . Since these instances were never seen by predictor we can use these as validation set . just set *oob_score=True* while defining bagging_classifier."
   ]
  },
  {
   "cell_type": "code",
   "execution_count": 89,
   "id": "8d20cba5",
   "metadata": {},
   "outputs": [
    {
     "name": "stdout",
     "output_type": "stream",
     "text": [
      "\n",
      "Decision Tree accuracy : 0.9\n",
      "Bagging oob-score      : 0.925\n",
      "Bagging Classifier acc : 0.95\n",
      "\n"
     ]
    }
   ],
   "source": [
    "from sklearn.ensemble import BaggingClassifier\n",
    "from sklearn.tree import DecisionTreeClassifier\n",
    "\n",
    "X,y = make_moons(noise=0.25,n_samples=200,random_state=42)\n",
    "X_train,X_test,y_train,y_test = train_test_split(X,y,test_size=0.2,random_state=42)\n",
    "\n",
    "tree = DecisionTreeClassifier()\n",
    "bagging_clf = BaggingClassifier(DecisionTreeClassifier(),\n",
    "                                n_estimators=500,max_samples=100,\n",
    "                                bootstrap=True,n_jobs=-1,oob_score=True)\n",
    "\n",
    "bagging_clf.fit(X_train,y_train)\n",
    "tree.fit(X_train,y_train)\n",
    "\n",
    "print(f'''\n",
    "Decision Tree accuracy : {accuracy_score(y_test,tree.predict(X_test))}\n",
    "Bagging oob-score      : {bagging_clf.oob_score_}\n",
    "Bagging Classifier acc : {accuracy_score(y_test,bagging_clf.predict(X_test))}\n",
    "''')"
   ]
  },
  {
   "cell_type": "markdown",
   "id": "10eb87d9",
   "metadata": {},
   "source": [
    "##### ***Random Patches and Random Subspace***\n",
    "just like we sampled training instances(bagging/pasting) we can sample features as well by using two hyperparameter *max_features* and *bootstrap_features*<br><br>\n",
    "**Random Patches** : When we do sampling of both features and instances <br><br>\n",
    "**Random Subspace**: When we only do sampling of features by setting *bootstrap=False* , *max_sample=1* but keeping *bootstrap_feature=True* and *max_features < 1* <br>\n",
    "*sampling features produce more diverse predictor , by trading a bit more bias for a lower varience*<br><br>\n",
    "*Bias : The inability of model to truly capture the relationship in training data ie. High bias mean it has high error when tested we training data itself*<br>\n",
    "*Variance : Diffrence of fit on training and testing datasets , ie. High variance mean model have low bias/ lower training error but high testing error*<br>\n",
    "*A model with low bias but high variance is said to be over-fitting and the model with high bias is said to be underfitting*"
   ]
  },
  {
   "cell_type": "markdown",
   "id": "24bb0b7b",
   "metadata": {},
   "source": [
    "#### Random Forests\n",
    "* These are ensemble of Decision Trees trained on bagging method\n",
    "* Random Forest introduces more randomness when growing trees , as inseted of searching for the best feature when splitting a node it searches for the best feature among the random subset of features , which again trade bias for better varience<br><br>\n",
    "\n",
    "##### Extra-Tree (Extreamly-Random-Tree)\n",
    "when we are splitting a node only one random subset is consider , we can make it more random by using random threshold for splitting rather than the best possible threshold . These extreamly random trees are called ***extra-trees***<br><br>\n",
    "\n",
    "*another great quality of random forest is that it make it easy to find the relative importance of features , in scikit-learn it is calculated by how much the impurity of node reduces as it uses that feature . scikit-learn automatically calculates it after training the forest we can acess the result using \"feature_importance_\"*"
   ]
  },
  {
   "cell_type": "code",
   "execution_count": 90,
   "id": "a4908087",
   "metadata": {},
   "outputs": [
    {
     "name": "stdout",
     "output_type": "stream",
     "text": [
      "accuracy of RandomForest : 1.0\n",
      "\n",
      "\n",
      "FEATURE IMPORTANCE\n",
      "\n",
      "sepal length (cm) : 0.10488337961069605\n",
      "sepal width (cm) : 0.02538391252457476\n",
      "petal length (cm) : 0.41879788130654844\n",
      "petal width (cm) : 0.4509348265581809\n"
     ]
    }
   ],
   "source": [
    "from sklearn.datasets import load_iris\n",
    "from sklearn.ensemble import RandomForestClassifier\n",
    "\n",
    "iris = load_iris()\n",
    "X ,y = iris.data , iris.target\n",
    "X_train,X_test,y_train,y_test = train_test_split(X,y,test_size=0.2,random_state=42)\n",
    "\n",
    "rfc = RandomForestClassifier(n_estimators=100,n_jobs=-1)\n",
    "rfc.fit(X_train,y_train)\n",
    "\n",
    "print(f\"accuracy of RandomForest : {accuracy_score(y_test,rfc.predict(X_test))}\\n\\n\")\n",
    "print(\"FEATURE IMPORTANCE\\n\")\n",
    "for feat_name,importance in zip(iris.feature_names,rfc.feature_importances_):\n",
    "    print(feat_name,\":\",importance)"
   ]
  },
  {
   "cell_type": "markdown",
   "id": "3575e98f",
   "metadata": {},
   "source": [
    "#### ***Boosting***\n",
    "The generel idea is to combine several waek learners to strong learner , which is mainly done by training models sequentially , each trying to corrects its predecessor.\n"
   ]
  },
  {
   "cell_type": "markdown",
   "id": "8b059fed",
   "metadata": {},
   "source": [
    "#### AdaBoost (Adaptive Boosting)\n",
    "* The idea is to give more importance to the misclassified/underfitted instances\n",
    "* In this , first model is trained on whole training dataset then the weight of missclassifed instances get increase then second model trained on updated weights then it again update weights and so on.\n",
    "* After all predictors are trained , AdaBoost predicts just like bagging or pasting except the predictors have different weight as per their accuracy on the weighted dataset<br>\n",
    "<img src='https://i.ibb.co/HGD905K/Screenshot-from-2022-11-23-16-15-04.png' width='60%'><br>\n",
    "\n",
    "*above image shows how new predictor is better then the last one and also shows the affect of learning rate similar that of gradient decent , but insted of tweaking hyperparameter to minimise cost-function AdaBoost add new predictor to the ensemble with higher weight*<br>\n",
    "*the model used in image is highly regulerized/underfitting SVM that's why had high bias*<br><br>\n",
    "*For maths involved in finding and updating weight check notebook*<br><br>\n",
    "scikit-learn actually uses multiclass version of AdaBoost called ***SAMME*** stands for *Stagewise Additive Modeling using Multiclass Exponential loss-function* , moreover if the predictor/base_estimator can return class probability scikit-learn uses varient of SAMME called SAMME.R (R = Real) which relies on class probability rather than prediction ,hence perform better<br><br>\n",
    "*decision_tree with depth=1 is called decision_stump*<br>\n",
    "*to avoid over-fitting we can reduce n_estimator or use a more regularized base_estimator*"
   ]
  },
  {
   "cell_type": "code",
   "execution_count": 91,
   "id": "879df7b1",
   "metadata": {},
   "outputs": [
    {
     "name": "stdout",
     "output_type": "stream",
     "text": [
      "AdaBoost accuracy : 96.66666666666667%\n"
     ]
    }
   ],
   "source": [
    "from sklearn.ensemble import AdaBoostClassifier\n",
    "\n",
    "ada_clf = AdaBoostClassifier(DecisionTreeClassifier(max_depth=1),\n",
    "                            learning_rate=0.5,n_estimators=200,algorithm='SAMME.R')\n",
    "\n",
    "ada_clf.fit(X_train,y_train)\n",
    "print(f'AdaBoost accuracy : {accuracy_score(y_test,ada_clf.predict(X_test))*100}%')"
   ]
  },
  {
   "cell_type": "markdown",
   "id": "9669772f",
   "metadata": {},
   "source": [
    "#### Gradient Boosting \n",
    "Gradient boost just like AdaBoot based on sequentially adding predictor to the ensemble , but insted of tweaking instance's weight(like AdaBoost) it tries to fit new predictor to the residual error made by previous predictor<br><br>\n",
    "\n",
    "Gradient boost with DecisionTreeRegressor as a base estimator is called *Gradient Tree Boosting* or *Gradient Boosted Regression Tree* ***(GBRT)***"
   ]
  },
  {
   "cell_type": "code",
   "execution_count": 92,
   "id": "ff4dcd55",
   "metadata": {},
   "outputs": [],
   "source": [
    "def plt_tree_pred(tree,clr,label,axes=[-0.5,0.5,-0.1,0.8]):\n",
    "    x_new = np.linspace(axes[0],axes[1],100).reshape(-1,1)\n",
    "    y_new = tree.predict(x_new)\n",
    "    plt.plot(x_new,y_new,clr+'-',label=label)"
   ]
  },
  {
   "cell_type": "code",
   "execution_count": 93,
   "id": "1b74cc0b",
   "metadata": {},
   "outputs": [
    {
     "name": "stdout",
     "output_type": "stream",
     "text": [
      "MSE of ensembled GBRT is 0.10707621035225663\n"
     ]
    }
   ],
   "source": [
    "import numpy as np\n",
    "import matplotlib.pyplot as plt\n",
    "from sklearn.tree import DecisionTreeRegressor\n",
    "from sklearn.metrics import mean_squared_error\n",
    "\n",
    "#### Dummy Data ####\n",
    "np.random.seed(42)\n",
    "X = np.random.rand(100, 1) - 0.5\n",
    "y = 3*X[:, 0]**2 + 0.05 * np.random.randn(100)\n",
    "np.random.seed(24)\n",
    "X_test =  np.random.rand(100, 1) - 0.5\n",
    "y_test = 3*X[:, 0]**2 + 0.05 * np.random.randn(100)\n",
    "\n",
    "#### creating a GBRT ####\n",
    "tree_reg1 = DecisionTreeRegressor(max_depth=2)\n",
    "tree_reg1.fit(X,y)\n",
    "\n",
    "y2 = y - tree_reg1.predict(X)\n",
    "tree_reg2 = DecisionTreeRegressor(max_depth=2)\n",
    "tree_reg2.fit(X,y2)\n",
    "\n",
    "y3 = y2 - tree_reg2.predict(X)\n",
    "tree_reg3 = DecisionTreeRegressor(max_depth=2)\n",
    "tree_reg3.fit(X,y3)\n",
    "\n",
    "y_pred = sum(tree.predict(X_test) for tree in (tree_reg1,tree_reg2,tree_reg3))\n",
    "print(f'MSE of ensembled GBRT is {mean_squared_error(y_test,y_pred)}')"
   ]
  },
  {
   "cell_type": "markdown",
   "id": "723cbec2",
   "metadata": {},
   "source": [
    "we can get similar result with sklearn's GradientBoostRegressor Class , and just like RandomForestRegressor we can control the growth of DecisionTree by *max_sample_leafs , max_depth* etc and number of trees with *n_estimators*"
   ]
  },
  {
   "cell_type": "code",
   "execution_count": 94,
   "id": "588e4b19",
   "metadata": {},
   "outputs": [
    {
     "data": {
      "image/png": "[encoded data removed]",
      "text/plain": [
       "<Figure size 450x350 with 1 Axes>"
      ]
     },
     "metadata": {},
     "output_type": "display_data"
    }
   ],
   "source": [
    "from sklearn.ensemble import GradientBoostingRegressor\n",
    "\n",
    "gbrt = GradientBoostingRegressor(max_depth=2,n_estimators=3,learning_rate=1.0)#making similar model as above\n",
    "gbrt.fit(X,y)\n",
    "\n",
    "plt.figure(figsize=(4.5,3.5))\n",
    "plt.plot(X,y,'b.')\n",
    "plt_tree_pred(gbrt,'g','GBRT')\n",
    "plt_tree_pred(tree_reg1,'r','DecisionTree')\n",
    "plt.legend()\n",
    "plt.show()"
   ]
  },
  {
   "cell_type": "markdown",
   "id": "0209cdbb",
   "metadata": {},
   "source": [
    "The *learning_rate* hyperparameter scales the contribution of each tree. If you set it to a low value, such as 0.1, you will need more trees in the ensemble to fit the training set, but the predictions will usually generalize better. This is a regularization technique called ***shrinkage***<br><br>\n",
    "\n",
    "hence,we can use early stopping to find optimal number of trees.<br>\n",
    "* one way is to use *staged_predict()* method which return an iterator of prediction made at each step/predictor by GradientBoostingRegressor (its just a list of predictor made at each step)\n",
    "* Another way , is to not train ensemble on whole large number of trees and actually early_stopping , this could be done by keeping *warm_start=True* which make sklearn to keep existing tree when the *.fit()* is called and allowing increamental learning"
   ]
  },
  {
   "cell_type": "code",
   "execution_count": 95,
   "id": "aa1b69ad",
   "metadata": {},
   "outputs": [
    {
     "name": "stdout",
     "output_type": "stream",
     "text": [
      "Error after early stopping with staged_predict() 0.002254233050012351\n",
      "Error after actual early stopping  0.002286453873068945\n"
     ]
    }
   ],
   "source": [
    "#### early-stopping with staged_predict() ####\n",
    "X_train , X_val , y_train , y_val = train_test_split(X,y,test_size=0.2,random_state=42)\n",
    "\n",
    "gbrt = GradientBoostingRegressor(max_depth=2,n_estimators=150)\n",
    "gbrt.fit(X_train,y_train)\n",
    "\n",
    "errors = [mean_squared_error(y_val,y_pred) for y_pred in gbrt.staged_predict(X_val)]\n",
    "bst_n_estimator = np.argmin(errors)\n",
    "\n",
    "best_gbrt = GradientBoostingRegressor(max_depth=2,n_estimators=bst_n_estimator)\n",
    "best_gbrt.fit(X_train,y_train)\n",
    "\n",
    "print(\"Error after early stopping with staged_predict()\",\n",
    "      mean_squared_error(y_val,best_gbrt.predict(X_val)))\n",
    "\n",
    "#### Actually Early-Stopping ####\n",
    "gbrt = gbrt = GradientBoostingRegressor(max_depth=2,warm_start=True)\n",
    "min_error = float('inf')\n",
    "error_going_up = 0\n",
    "\n",
    "for n_estimators in range(1,151):\n",
    "    gbrt.n_estimators = n_estimators\n",
    "    gbrt.fit(X_train,y_train)\n",
    "    val_error = mean_squared_error(y_val,gbrt.predict(X_val))\n",
    "    \n",
    "    if val_error < min_error :\n",
    "        min_error = val_error\n",
    "        error_going_up = 0\n",
    "    else:\n",
    "        if error_going_up == 5:\n",
    "            break\n",
    "print(\"Error after actual early stopping \",\n",
    "      mean_squared_error(y_val,gbrt.predict(X_val)))"
   ]
  },
  {
   "cell_type": "markdown",
   "id": "67b70d69",
   "metadata": {},
   "source": [
    "both method end up with almost same result but 2nd method will be faster as it don't have to train all large number of trees <br><br>\n",
    "\n",
    "GradientBoostingRegressor also support **subsample** hyperparameter which specifier the fraction of training set can be used to train a tree , if *subsample=0.25* it will train trees with 25% of data and this data is selected randomly and yes it trade a little bias for better variance its called Stocastic Gradient Boosting  <br><br>\n",
    "\n",
    "***XGBoost*** : its an optimized version of GradientBoost and it can itself take care of early stopping ,its  genreally perform better.\n",
    "\n",
    "    import xgboost\n",
    "    xgb_reg = xgboost.XGBRegressor()\n",
    "    xgb_reg.fit(X_train, y_train,eval=[(X_val,y_val)],early_stopping_rounds=2)\n",
    "    y_pred = xgb_reg.predict(X_val)"
   ]
  },
  {
   "cell_type": "markdown",
   "id": "e73a04ba",
   "metadata": {},
   "source": [
    "#### Stacking (stacked generalization)\n",
    "the idea is ,insted of using trivial function to aggregate the prediction made by predictor we can use another model to aggregate the predictions , by training it with predictor's predictions and input and final result as target.\n",
    "<br><br>\n",
    "if we want to create a 2 layer stacking we have to split data in 2 subset , one will be used to train the base_estimator , and the other to get the prediction from base_estimators and use it to train blender(which itself a model) ,that will genrate final result\n",
    "<br><br>\n",
    "*sklearn don't have direct implimentation for stacking but its not too do our own implimentation*"
   ]
  },
  {
   "cell_type": "code",
   "execution_count": null,
   "id": "ea450103",
   "metadata": {},
   "outputs": [],
   "source": []
  }
 ],
 "metadata": {
  "kernelspec": {
   "display_name": "Python 3 (ipykernel)",
   "language": "python",
   "name": "python3"
  },
  "language_info": {
   "codemirror_mode": {
    "name": "ipython",
    "version": 3
   },
   "file_extension": ".py",
   "mimetype": "text/x-python",
   "name": "python",
   "nbconvert_exporter": "python",
   "pygments_lexer": "ipython3",
   "version": "3.10.6"
  }
 },
 "nbformat": 4,
 "nbformat_minor": 5
}
