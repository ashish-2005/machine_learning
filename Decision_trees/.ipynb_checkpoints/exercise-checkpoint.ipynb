{
 "cells": [
  {
   "cell_type": "markdown",
   "id": "7c15f5b4",
   "metadata": {},
   "source": [
    "### ***Decision tree exercise***"
   ]
  },
  {
   "cell_type": "markdown",
   "id": "f70c04fe",
   "metadata": {},
   "source": [
    "#### 1)What is the approximate depth of a Decision Tree trained (without restrictions) a training set with 1 million instances?\n",
    "***ANS :*** its generelly O(log₂(m)) , so for 1 million = 10⁶ <br>\n",
    "depth = log₂(10⁶) ≈ 20"
   ]
  },
  {
   "cell_type": "markdown",
   "id": "92a4b831",
   "metadata": {},
   "source": [
    "#### 2) Is a node’s Gini impurity generally lower or greater than its parent’s? Is it generally lower/greater, or always lower/greater?\n",
    "***ANS :*** node's gini impurity is **lower** than its parent's , its **generally** lower than its parent's because tree may increase one child node's impurity to compensated it with another child node's lower impurity"
   ]
  },
  {
   "cell_type": "markdown",
   "id": "6da192e7",
   "metadata": {},
   "source": [
    "#### 3)If a Decision Tree is overfitting the training set,is it a good idea to try decreasing max_depth?\n",
    "***ANS :*** yes , we can regularize our tree by decreasing *max_depth* as now it won't make unnecessary node to fit data very closely and end up overfitting"
   ]
  },
  {
   "cell_type": "markdown",
   "id": "bf7293e3",
   "metadata": {},
   "source": [
    "#### 4)If Decision Tree is underfitting the training set,is it a good idea to scale the input features?\n",
    "***ANS :*** No , I would make no difference as decision tree is not scale-sensitive model. It just find the threshold for a feature , scaling will only change the threshold not the results"
   ]
  },
  {
   "cell_type": "markdown",
   "id": "723e9336",
   "metadata": {},
   "source": [
    "#### 5) If it takes one hour to train a Decision Tree on a training set containing 1 million instances, roughly how much time will it take to train another Decision Tree on a training set containing 10 million instances?\n",
    "***ANS :*** time taken to train 1M instances = 1H <br>\n",
    "*we know comp. complexicity. for decision tree is  nxmxlog₂(m)* <br>\n",
    "=> time taken to perform nx10⁶xlog₂(10⁶) calculations = 1H<br>\n",
    "=> time taken to perform 1 calculation = (1/nx10⁶xlog₂(10⁶)) H<br>\n",
    "time taken to train 10 M instances = (1/nx10⁶xlog₂(10⁶)) * (nx10⁷xlog₂(10⁷))<br>\n",
    "= 10 x log₂(10⁷-10⁶)<br>\n",
    "= 11.7 ≈ ***12H***<br>"
   ]
  },
  {
   "cell_type": "markdown",
   "id": "28fdf35c",
   "metadata": {},
   "source": [
    "#### 6) If your training set contains 100,000 instances, will setting presort=True speed up training?\n",
    "***Ans :*** Presorting the training set speeds up training only if the dataset is smaller than a few thousand instances. If it contains 100,000 instances, setting presort=True will considerably slow down the training."
   ]
  },
  {
   "cell_type": "markdown",
   "id": "ce67e7cb",
   "metadata": {},
   "source": [
    "#### 7) Train and fine-tune a Decision Tree for the ***moons dataset***"
   ]
  },
  {
   "cell_type": "code",
   "execution_count": 59,
   "id": "38c4277f",
   "metadata": {},
   "outputs": [],
   "source": [
    "from sklearn.datasets import make_moons\n",
    "import pandas as pd\n",
    "import numpy as np\n",
    "import matplotlib.pyplot as plt\n",
    "\n",
    "X,y = make_moons(n_samples=10000,noise=0.4)"
   ]
  },
  {
   "cell_type": "code",
   "execution_count": 60,
   "id": "1a06608b",
   "metadata": {},
   "outputs": [],
   "source": [
    "from sklearn.model_selection import train_test_split\n",
    "X_train , X_test , y_train , y_test = train_test_split(X,y,test_size=0.2)"
   ]
  },
  {
   "cell_type": "code",
   "execution_count": 61,
   "id": "0df0d30d",
   "metadata": {},
   "outputs": [
    {
     "name": "stdout",
     "output_type": "stream",
     "text": [
      "Fitting 3 folds for each of 50 candidates, totalling 150 fits\n"
     ]
    }
   ],
   "source": [
    "from sklearn.tree import DecisionTreeClassifier\n",
    "from sklearn.model_selection import RandomizedSearchCV\n",
    "\n",
    "tree_clf = DecisionTreeClassifier()\n",
    "grid = {'criterion' : [\"gini\", \"entropy\"],\n",
    "        'max_depth' : [10,20,30,40,50,60,70,80,90],\n",
    "        'max_leaf_nodes' : [2,3,4,5,6,7,8,9,10]   \n",
    "       }\n",
    "rscv = RandomizedSearchCV(tree_clf,grid,verbose=2,n_iter=50,n_jobs=-1,cv=3)\n",
    "rscv.fit(X_train,y_train)\n",
    "\n",
    "tuned_model = rscv.best_estimator_"
   ]
  },
  {
   "cell_type": "code",
   "execution_count": 62,
   "id": "daf76b3b",
   "metadata": {},
   "outputs": [
    {
     "name": "stdout",
     "output_type": "stream",
     "text": [
      "accuracy of tuned Decision tree is 85.15%\n"
     ]
    }
   ],
   "source": [
    "from sklearn.metrics import accuracy_score\n",
    "\n",
    "tuned_model.fit(X_train,y_train)\n",
    "y_pred = tuned_model.predict(X_test)\n",
    "\n",
    "print(f'accuracy of tuned Decision tree is {accuracy_score(y_test,y_pred)*100}%')"
   ]
  },
  {
   "cell_type": "markdown",
   "id": "525630fd",
   "metadata": {},
   "source": [
    "#### 8) Grow a ***Random-Forest-Classifier*** with Decision-Trees"
   ]
  },
  {
   "cell_type": "code",
   "execution_count": 63,
   "id": "c40711ca",
   "metadata": {},
   "outputs": [],
   "source": [
    "from sklearn.model_selection import ShuffleSplit\n",
    "\n",
    "X,y = make_moons(10000,noise=0.4)\n",
    "X_train , X_test , y_train , y_test = train_test_split(X,y,test_size=0.2,random_state=42)\n",
    "\n",
    "rs = ShuffleSplit(n_splits=1000,train_size=0.0125,random_state=42,test_size=None)\n",
    "#train_size=0.0125 to create samples with 100 instances\n",
    "\n",
    "random_forest = [rscv.best_estimator_ for i in range(1000)]#list of 1000 decision_trees\n",
    "\n",
    "X_train_subset = [[X_train[i] for i in j[0]] for j in list(rs.split(X_train))]\n",
    "#rs.split() return random/shuffled indexs , above line will create 1000 subset with 100 samples\n",
    "y_train_subset = [[y_train[i] for i in j[0]] for j in list(rs.split(X_train))]"
   ]
  },
  {
   "cell_type": "code",
   "execution_count": 64,
   "id": "8719f2cb",
   "metadata": {},
   "outputs": [],
   "source": [
    "trained_random_forest = [random_forest[i].fit(X_train_subset[i],y_train_subset[i]) for i in range(1000)]"
   ]
  },
  {
   "cell_type": "code",
   "execution_count": 65,
   "id": "4ec0b38f",
   "metadata": {},
   "outputs": [],
   "source": [
    "from statistics import mode\n",
    "\n",
    "predictions = [trained_random_forest[i].predict(X_test) for i in range(1000)]\n",
    "final_pred = []\n",
    "for i in range(2000):#test_size = 2000\n",
    "    final_pred.append(mode([predictions[j][i] for j in range(1000)]))\n",
    "#this predictions[j][i] will give the result of j-th tree for the i-th instance"
   ]
  },
  {
   "cell_type": "code",
   "execution_count": 66,
   "id": "035f6bd8",
   "metadata": {},
   "outputs": [
    {
     "name": "stdout",
     "output_type": "stream",
     "text": [
      "Accuracy of Random forest : 83.8%\n"
     ]
    }
   ],
   "source": [
    "print(f'Accuracy of Random forest : {accuracy_score(y_test,final_pred)*100}%')"
   ]
  },
  {
   "cell_type": "code",
   "execution_count": null,
   "id": "c5bad6a5",
   "metadata": {},
   "outputs": [],
   "source": []
  }
 ],
 "metadata": {
  "kernelspec": {
   "display_name": "Python 3 (ipykernel)",
   "language": "python",
   "name": "python3"
  },
  "language_info": {
   "codemirror_mode": {
    "name": "ipython",
    "version": 3
   },
   "file_extension": ".py",
   "mimetype": "text/x-python",
   "name": "python",
   "nbconvert_exporter": "python",
   "pygments_lexer": "ipython3",
   "version": "3.10.6"
  }
 },
 "nbformat": 4,
 "nbformat_minor": 5
}
