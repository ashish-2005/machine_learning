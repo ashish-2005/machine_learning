{
 "cells": [
  {
   "cell_type": "markdown",
   "id": "d3e4c1d1",
   "metadata": {},
   "source": [
    "# Learning Classification with MNIST dataset\n",
    "![](https://www.oreilly.com/library/view/deep-learning-by/9781788399906/assets/080b85fa-6251-42d9-b069-a96ac276eefe.png)"
   ]
  },
  {
   "cell_type": "markdown",
   "id": "1968e5c6",
   "metadata": {},
   "source": [
    "The starting few steps are to just load data from mnist.mat (MATLAB file) to usable 2D array"
   ]
  },
  {
   "cell_type": "code",
   "execution_count": 1,
   "id": "4724da54",
   "metadata": {
    "execution": {
     "iopub.execute_input": "2022-09-27T09:05:00.079253Z",
     "iopub.status.busy": "2022-09-27T09:05:00.078682Z",
     "iopub.status.idle": "2022-09-27T09:05:00.835916Z",
     "shell.execute_reply": "2022-09-27T09:05:00.834268Z",
     "shell.execute_reply.started": "2022-09-27T09:05:00.079140Z"
    }
   },
   "outputs": [],
   "source": [
    "from scipy.io import loadmat\n",
    "mnist = loadmat(\"../input/mnist-original/mnist-original.mat\")\n",
    "X = mnist['data'].T #data\n",
    "Y = mnist['label'][0] #label"
   ]
  },
  {
   "cell_type": "markdown",
   "id": "977e9ba1",
   "metadata": {},
   "source": [
    "# Splitting data into train and test set\n",
    "* Our data is purely sorted that mean first 3000+ images are of 0 , next some are of 1 and so on\n",
    "* This is a Problem as if we split is normally we will end up with train set full of 0,1,2,3..7 but test set will only have 7,8,9\n",
    "* To deal with it we will be performing random splitting with help of train_test_split function from sklearn"
   ]
  },
  {
   "cell_type": "code",
   "execution_count": 2,
   "id": "3c5be19b",
   "metadata": {
    "execution": {
     "iopub.execute_input": "2022-09-27T09:05:00.838785Z",
     "iopub.status.busy": "2022-09-27T09:05:00.838357Z",
     "iopub.status.idle": "2022-09-27T09:05:01.877891Z",
     "shell.execute_reply": "2022-09-27T09:05:01.876752Z",
     "shell.execute_reply.started": "2022-09-27T09:05:00.838749Z"
    }
   },
   "outputs": [],
   "source": [
    "from sklearn.model_selection import train_test_split\n",
    "X_train , X_test , Y_train , Y_test = train_test_split(X,Y,test_size=0.142857142857,random_state=42)\n",
    "# I used test size as 14.28% to make train set of 60K img and test set of 10K img "
   ]
  },
  {
   "cell_type": "markdown",
   "id": "ed672fdb",
   "metadata": {
    "execution": {
     "iopub.execute_input": "2022-09-19T16:06:19.654951Z",
     "iopub.status.busy": "2022-09-19T16:06:19.654368Z",
     "iopub.status.idle": "2022-09-19T16:06:19.666154Z",
     "shell.execute_reply": "2022-09-19T16:06:19.664588Z",
     "shell.execute_reply.started": "2022-09-19T16:06:19.654894Z"
    }
   },
   "source": [
    "# Data Visualization\n",
    "* We have our data with 784 columns which is expected as we have 28x28 px images (28 X 28 = 784) , each coloum represent a pixel\n",
    "* Now if we want to see any image we will be using matplotlib's imshow() function "
   ]
  },
  {
   "cell_type": "code",
   "execution_count": 3,
   "id": "520b937a",
   "metadata": {
    "execution": {
     "iopub.execute_input": "2022-09-27T09:05:01.879676Z",
     "iopub.status.busy": "2022-09-27T09:05:01.879164Z",
     "iopub.status.idle": "2022-09-27T09:05:01.976387Z",
     "shell.execute_reply": "2022-09-27T09:05:01.975536Z",
     "shell.execute_reply.started": "2022-09-27T09:05:01.879642Z"
    }
   },
   "outputs": [
    {
     "data": {
      "image/png": "[encoded data removed]",
      "text/plain": [
       "<Figure size 432x288 with 1 Axes>"
      ]
     },
     "metadata": {
      "needs_background": "light"
     },
     "output_type": "display_data"
    },
    {
     "name": "stdout",
     "output_type": "stream",
     "text": [
      "7.0\n"
     ]
    }
   ],
   "source": [
    "import matplotlib as mpl\n",
    "import matplotlib.pyplot as plt\n",
    "def show_image(index):\n",
    "    pixels = (X_train[index]).reshape(28,28) #converting 784px to 28x28 px\n",
    "    plt.imshow(pixels,cmap=mpl.cm.binary) # cmap is optionl but recommended otherwise you will see some wierd colors,it show BnW\n",
    "    plt.axis('off') # no need of axis\n",
    "    plt.show()\n",
    "show_image(69)\n",
    "# image looks like 7 now lets check if we are wrong or not\n",
    "print(Y_train[69])\n",
    "# we are smart indeed"
   ]
  },
  {
   "cell_type": "markdown",
   "id": "22bdc0c1",
   "metadata": {},
   "source": [
    "# Binary Classification (5orNOT)\n",
    "since we have seen imgs now lets do binary classification as the name suggest we will be dealing with just two senarios True or false , is it 5 or NOT simple !!\n",
    "* Firstly we will change our label to 5 or NOT \n",
    "* For Model we will be using SGDClassifier , SGDClassifier based on Stochastic Gradient Descent (You can go around maths) its also recomended for very large datasets , its also capable of Online Learning (Google It!)\n",
    "* I also checked its performance with most basic way but we will measure it more accurately later in the notebook "
   ]
  },
  {
   "cell_type": "code",
   "execution_count": 4,
   "id": "7dbcfb7a",
   "metadata": {
    "execution": {
     "iopub.execute_input": "2022-09-27T09:05:01.979382Z",
     "iopub.status.busy": "2022-09-27T09:05:01.978737Z",
     "iopub.status.idle": "2022-09-27T09:05:22.840718Z",
     "shell.execute_reply": "2022-09-27T09:05:22.839399Z",
     "shell.execute_reply.started": "2022-09-27T09:05:01.979345Z"
    }
   },
   "outputs": [
    {
     "data": {
      "text/plain": [
       "SGDClassifier(random_state=42)"
      ]
     },
     "execution_count": 4,
     "metadata": {},
     "output_type": "execute_result"
    }
   ],
   "source": [
    "#converting our labels for 5orNOT\n",
    "Y_train_5 = (Y_train == 5) # it will replace 5 with True and else with false\n",
    "Y_test_5 = (Y_test == 5)\n",
    "\n",
    "#model training \n",
    "from sklearn.linear_model import SGDClassifier\n",
    "clf = SGDClassifier(random_state=42)\n",
    "clf.fit(X_train,Y_train_5)\n",
    "#it might take some time at the end its 60K images"
   ]
  },
  {
   "cell_type": "code",
   "execution_count": 5,
   "id": "5c1606c0",
   "metadata": {
    "execution": {
     "iopub.execute_input": "2022-09-27T09:05:22.842218Z",
     "iopub.status.busy": "2022-09-27T09:05:22.841867Z",
     "iopub.status.idle": "2022-09-27T09:05:23.153318Z",
     "shell.execute_reply": "2022-09-27T09:05:23.152130Z",
     "shell.execute_reply.started": "2022-09-27T09:05:22.842188Z"
    }
   },
   "outputs": [
    {
     "name": "stdout",
     "output_type": "stream",
     "text": [
      "got 4417 right out of 5394\n"
     ]
    }
   ],
   "source": [
    "#now lets predict\n",
    "fives = []\n",
    "for i in range(len(Y_train_5)):\n",
    "    if Y_train_5[i]:\n",
    "        fives.append(i)\n",
    "\n",
    "# now we know which index 5 recides lets check how much our model guess right\n",
    "total = len(fives)\n",
    "right = 0\n",
    "for i in fives:\n",
    "    if clf.predict([X_train[i]]):\n",
    "        right += 1\n",
    "print(f\"got {right} right out of {total}\")\n",
    "# 4417 / 5394 is not bad but note we tested on same dataset we train it with its not that much valid "
   ]
  },
  {
   "cell_type": "markdown",
   "id": "b9598a66",
   "metadata": {},
   "source": [
    "# Performance Measures\n",
    "* Performance Measurements of classifier are somewhat different than regressor so we will spend comparatively more time on it than  other topics \n",
    "* In this first we will see cross validation and its drawback\n",
    "* Then Confusion Matrix and its features<br>\n",
    "  1) Precision and Recall<br>\n",
    "  2) Precision and Recall Tradeoff<br>\n",
    "  3) ROC curve"
   ]
  },
  {
   "cell_type": "markdown",
   "id": "4da2ff75",
   "metadata": {},
   "source": [
    "### Cross_Validation\n",
    "* In this we split data into different parts and then find accuracy on seperate sets \n",
    "* we are getting our average accuracy around 96% which is great but don't let it fool you are there are only 5394 5 rest all are NOT 5 and its easy to find NOT 5 which compose of more than 95% of set hence this 96% acc. is not useful "
   ]
  },
  {
   "cell_type": "code",
   "execution_count": 6,
   "id": "56216196",
   "metadata": {
    "execution": {
     "iopub.execute_input": "2022-09-27T09:05:23.154785Z",
     "iopub.status.busy": "2022-09-27T09:05:23.154517Z",
     "iopub.status.idle": "2022-09-27T09:06:21.624315Z",
     "shell.execute_reply": "2022-09-27T09:06:21.623598Z",
     "shell.execute_reply.started": "2022-09-27T09:05:23.154760Z"
    }
   },
   "outputs": [
    {
     "data": {
      "text/plain": [
       "0.9623333333333333"
      ]
     },
     "execution_count": 6,
     "metadata": {},
     "output_type": "execute_result"
    }
   ],
   "source": [
    "from sklearn.model_selection import cross_val_score\n",
    "scores = cross_val_score(clf,X_train,Y_train_5,cv=5,scoring='accuracy')\n",
    "scores.mean()"
   ]
  },
  {
   "cell_type": "markdown",
   "id": "bab8b091",
   "metadata": {},
   "source": [
    "## Confusion_Matrix\n",
    "* This is a more prefrable way as it tells a lot more than accuracy\n",
    "* element [0,0] represent how many time its correctly guessed NOT5 {True Negetive}, element [0,1] represent how many time it confuse NOT5 with 5 {False Positive} <br> element [1,0] represent how many time our classifier confuse 5 with NOT5 {False Negetive} and element [1,1] represent how many time it guessed 5 correctly {True Positive}<br>\n",
    "![](https://media.geeksforgeeks.org/wp-content/uploads/20200821144709/284.PNG)\n",
    "* After seeing the confusion matrix (see code cell) we can say our classifier is not that much accurate as we calculated erlier , it might be 90%+ accurate on whole 60K data but if we see 5 only its not that good like the phrase **\"All that glitters is not gold\"**"
   ]
  },
  {
   "cell_type": "code",
   "execution_count": 7,
   "id": "16ec4433",
   "metadata": {
    "execution": {
     "iopub.execute_input": "2022-09-27T09:06:21.626404Z",
     "iopub.status.busy": "2022-09-27T09:06:21.625331Z",
     "iopub.status.idle": "2022-09-27T09:06:52.012156Z",
     "shell.execute_reply": "2022-09-27T09:06:52.011353Z",
     "shell.execute_reply.started": "2022-09-27T09:06:21.626374Z"
    }
   },
   "outputs": [
    {
     "data": {
      "text/plain": [
       "array([[54110,   496],\n",
       "       [ 1463,  3931]])"
      ]
     },
     "execution_count": 7,
     "metadata": {},
     "output_type": "execute_result"
    }
   ],
   "source": [
    "#this function will devide our set further then predict so we can get more accurate(real) predictions\n",
    "from sklearn.model_selection import cross_val_predict\n",
    "Y_train_pred = cross_val_predict(clf,X_train,Y_train_5,cv=3) \n",
    "\n",
    "#this will produce the confusion matrix\n",
    "from sklearn.metrics import confusion_matrix\n",
    "conf_mat = confusion_matrix(Y_train_5,Y_train_pred)\n",
    "conf_mat"
   ]
  },
  {
   "cell_type": "markdown",
   "id": "84fca42e",
   "metadata": {},
   "source": [
    "### Precision and Recall\n",
    "* Precision : Its the accuracy of classifier in positive prediction\n",
    "* Recall : Its the ratio of positive instance that are correctly detected ie {Correctly Guessed / total positive instances}<br>\n",
    "* F1_Score : Its the harmonic mean of Precision and Recall<br>\n",
    "<div>\n",
    "<img src=\"https://encrypted-tbn0.gstatic.com/images?q=tbn:ANd9GcTavHpP-SMbPgG4K6Qbmb00cg52v7sknlChJw&usqp=CAU\" width=\"300\"/>\n",
    "</div><br>\n",
    "if you dont understand the above mentioned (bookish)defination then check out this <a href='https://www.youtube.com/watch?v=qWfzIYCvBqo'> video</a> i myself understood it from there"
   ]
  },
  {
   "cell_type": "code",
   "execution_count": 8,
   "id": "1ee60f7e",
   "metadata": {
    "execution": {
     "iopub.execute_input": "2022-09-27T09:06:52.013772Z",
     "iopub.status.busy": "2022-09-27T09:06:52.013288Z",
     "iopub.status.idle": "2022-09-27T09:06:52.092979Z",
     "shell.execute_reply": "2022-09-27T09:06:52.092225Z",
     "shell.execute_reply.started": "2022-09-27T09:06:52.013738Z"
    }
   },
   "outputs": [
    {
     "name": "stdout",
     "output_type": "stream",
     "text": [
      "Precision : 0.8879602439575334\n",
      "Recall : 0.7287727104189841\n",
      "F1_Score : 0.8005294776499339\n"
     ]
    }
   ],
   "source": [
    "from sklearn.metrics import precision_score , recall_score , f1_score\n",
    "\n",
    "pre_score = precision_score(Y_train_5,Y_train_pred)\n",
    "rec_score = recall_score(Y_train_5,Y_train_pred)\n",
    "f1_score_ = f1_score(Y_train_5,Y_train_pred)\n",
    "\n",
    "print(f\"Precision : {pre_score}\\nRecall : {rec_score}\\nF1_Score : {f1_score_}\")"
   ]
  },
  {
   "cell_type": "markdown",
   "id": "a79dd108",
   "metadata": {},
   "source": [
    "F1_score prefer classifier with similar Precision and Recall but this is not always needed <br>\n",
    "**for example** if we want our classifier to classify videos as Adult or not .. in this case we can compromise with recall ie. it classify more non-adult as adult but high precision<br>\n",
    "high precision mean that it have least ammount of false positive , in context of example fasle positive mean those vedios which were adult but classified as non-adult , thats not acceptable "
   ]
  },
  {
   "cell_type": "markdown",
   "id": "e6c1e33a",
   "metadata": {},
   "source": [
    "### Precision / Recall Tradeoff\n",
    "* Our SGDClassifier use threshold to state whether the passed instance is true or not \n",
    "* This mean SGD scores every instance on bases of how much they look alike 5 and if it scores more than threshold it will conrider it as ture instance\n",
    "* With high threshold , recall decreases as now instance should look perfect 5 to be classifed as 5 \n",
    "* To decide which threshold to use , we have to score every instance (with help of cross_val_predict()) and with these score we will find precision and recall for different thresholds (using precision_recall_curve()) , and find the best threshold for the precision and recall we need"
   ]
  },
  {
   "cell_type": "code",
   "execution_count": 9,
   "id": "1be1dd69",
   "metadata": {
    "execution": {
     "iopub.execute_input": "2022-09-27T09:06:52.094565Z",
     "iopub.status.busy": "2022-09-27T09:06:52.094124Z",
     "iopub.status.idle": "2022-09-27T09:07:50.548775Z",
     "shell.execute_reply": "2022-09-27T09:07:50.548019Z",
     "shell.execute_reply.started": "2022-09-27T09:06:52.094535Z"
    }
   },
   "outputs": [],
   "source": [
    "#finding scores\n",
    "Y_score = cross_val_predict(clf,X_train,Y_train_5,method='decision_function')\n",
    "\n",
    "#finding precision & recall at different threshold\n",
    "from sklearn.metrics import precision_recall_curve\n",
    "precision , recall , threshold = precision_recall_curve(Y_train_5,Y_score)"
   ]
  },
  {
   "cell_type": "code",
   "execution_count": 10,
   "id": "3edc64e8",
   "metadata": {
    "execution": {
     "iopub.execute_input": "2022-09-27T09:07:50.552498Z",
     "iopub.status.busy": "2022-09-27T09:07:50.552042Z",
     "iopub.status.idle": "2022-09-27T09:07:50.740414Z",
     "shell.execute_reply": "2022-09-27T09:07:50.739052Z",
     "shell.execute_reply.started": "2022-09-27T09:07:50.552469Z"
    }
   },
   "outputs": [
    {
     "data": {
      "image/png": "[encoded data removed]",
      "text/plain": [
       "<Figure size 720x360 with 1 Axes>"
      ]
     },
     "metadata": {
      "needs_background": "light"
     },
     "output_type": "display_data"
    }
   ],
   "source": [
    "#this cell just to show what is threshold and recall when precision is 90% through graph\n",
    "\n",
    "import numpy as np\n",
    "#function to plot precision/recall vs threshold graph\n",
    "def plot_precision_recall_vs_threshold(precisions, recalls, thresholds):\n",
    "    plt.figure(figsize=(10,5))\n",
    "    plt.plot(thresholds, precisions[:-1], \"b--\", label=\"Precision\", linewidth=3)\n",
    "    plt.plot(thresholds, recalls[:-1], \"g-\", label=\"Recall\", linewidth=3)\n",
    "    plt.legend(loc=\"center right\", fontsize=16)\n",
    "    plt.xlabel(\"Threshold\", fontsize=16)\n",
    "    plt.axis([-50000,50000,0,1])\n",
    "    plt.grid(True)\n",
    "\n",
    "#find threshold and recall for which precision is 90%\n",
    "threshold_90_precision = threshold[np.argmax(precision >= 0.90)]\n",
    "recall_90_precision = recall[np.argmax(precision >= 0.90)]\n",
    "\n",
    "plot_precision_recall_vs_threshold(precision,recall,threshold)\n",
    "\n",
    "plt.plot([threshold_90_precision,threshold_90_precision],[0.0,0.90],'r:',linewidth=3)\n",
    "plt.plot([-50000,threshold_90_precision],[0.9,0.9],'r:',linewidth=3)\n",
    "plt.plot([threshold_90_precision],[0.90],'ro',linewidth=3)\n",
    "\n",
    "plt.plot([-50000, threshold_90_precision], [recall_90_precision, recall_90_precision], \"r:\",linewidth=3)\n",
    "plt.plot([threshold_90_precision], [recall_90_precision], \"ro\",linewidth=3)   \n",
    "\n",
    "plt.show()"
   ]
  },
  {
   "cell_type": "code",
   "execution_count": 11,
   "id": "bfab4d95",
   "metadata": {
    "execution": {
     "iopub.execute_input": "2022-09-27T09:07:50.741951Z",
     "iopub.status.busy": "2022-09-27T09:07:50.741674Z",
     "iopub.status.idle": "2022-09-27T09:07:50.889460Z",
     "shell.execute_reply": "2022-09-27T09:07:50.888685Z",
     "shell.execute_reply.started": "2022-09-27T09:07:50.741927Z"
    }
   },
   "outputs": [
    {
     "data": {
      "image/png": "[encoded data removed]",
      "text/plain": [
       "<Figure size 432x288 with 1 Axes>"
      ]
     },
     "metadata": {
      "needs_background": "light"
     },
     "output_type": "display_data"
    }
   ],
   "source": [
    "# Precision vs Recall graph is also a way to understand classifiers performance \n",
    "\n",
    "plt.plot(recall,precision,'g-',linewidth=2.5)\n",
    "plt.plot(recall_90_precision,0.90,'ro')\n",
    "plt.plot([0.0,recall_90_precision],[0.9,0.9],'r--')\n",
    "plt.plot([recall_90_precision,recall_90_precision],[0.0,0.9],'r--')\n",
    "plt.xlabel('Recall',fontsize=16)\n",
    "plt.ylabel('Precision',fontsize=16)\n",
    "plt.grid(True)\n",
    "\n",
    "plt.show()"
   ]
  },
  {
   "cell_type": "markdown",
   "id": "5edbbb9d",
   "metadata": {},
   "source": [
    "### Receiver Operating Characterstics(ROC) Curve \n",
    "* This is used for performace measuremet of binary classifier (genreally)"
   ]
  },
  {
   "cell_type": "code",
   "execution_count": 12,
   "id": "d24bcda9",
   "metadata": {
    "execution": {
     "iopub.execute_input": "2022-09-27T09:07:50.891280Z",
     "iopub.status.busy": "2022-09-27T09:07:50.890485Z",
     "iopub.status.idle": "2022-09-27T09:07:51.063221Z",
     "shell.execute_reply": "2022-09-27T09:07:51.062065Z",
     "shell.execute_reply.started": "2022-09-27T09:07:50.891245Z"
    }
   },
   "outputs": [
    {
     "data": {
      "image/png": "[encoded data removed]",
      "text/plain": [
       "<Figure size 432x288 with 1 Axes>"
      ]
     },
     "metadata": {
      "needs_background": "light"
     },
     "output_type": "display_data"
    }
   ],
   "source": [
    "# another way to look it with ROC (Receiver operating characteristics) curve which is plot b/w sencetivity(recall) vs (1-speceficity)\n",
    "from sklearn.metrics import roc_curve\n",
    "\n",
    "fpr , tpr , threshold  = roc_curve(Y_train_5,Y_score)\n",
    "\n",
    "def plot_roc_curve(fpr , tpr , label=None):\n",
    "    plt.plot(fpr,tpr,linewidth=3,label=label)\n",
    "    plt.plot([0,1],[0,1],'k--',linewidth=1.5)\n",
    "    plt.xlabel('False_Positive_Rate / 1-Specificity',fontsize=16)\n",
    "    plt.ylabel('True_Positive_Rate / Sencetivity / Recall',fontsize=16)\n",
    "    plt.legend(fontsize=12)\n",
    "    plt.grid(True)\n",
    "    plt.axis([-0.05,1,0,1])\n",
    "\n",
    "plot_roc_curve(fpr,tpr,'SGDClassifier')\n",
    "plt.show()\n",
    "\n",
    "#conclusion is that more the curve toward left better it is or more the AUC (area under curve) better the classifier\n",
    "#for perfect classifier AUC is 1"
   ]
  },
  {
   "cell_type": "code",
   "execution_count": 13,
   "id": "871d72ca",
   "metadata": {
    "execution": {
     "iopub.execute_input": "2022-09-27T09:07:51.064971Z",
     "iopub.status.busy": "2022-09-27T09:07:51.064491Z",
     "iopub.status.idle": "2022-09-27T09:10:10.121286Z",
     "shell.execute_reply": "2022-09-27T09:10:10.120318Z",
     "shell.execute_reply.started": "2022-09-27T09:07:51.064942Z"
    }
   },
   "outputs": [
    {
     "data": {
      "image/png": "[encoded data removed]",
      "text/plain": [
       "<Figure size 432x288 with 1 Axes>"
      ]
     },
     "metadata": {
      "needs_background": "light"
     },
     "output_type": "display_data"
    },
    {
     "name": "stdout",
     "output_type": "stream",
     "text": [
      "\n",
      "\n",
      "Precision : 0.9915361828184511\n",
      "Recall : 0.8687430478309233\n",
      "F1_Score : 0.926086956521739\n"
     ]
    }
   ],
   "source": [
    "# plotting ROC for Random forest classifier and comparing it with SGDClassifier\n",
    "from sklearn.ensemble import RandomForestClassifier\n",
    "\n",
    "rfc = RandomForestClassifier(random_state=42)\n",
    "Y_prob = cross_val_predict(rfc,X_train,Y_train_5,cv=3,method='predict_proba')\n",
    "\n",
    "Y_rfc_score = Y_prob[:,1]\n",
    "fpr_rfc , tpr_rfc , threshold_rfc = roc_curve(Y_train_5,Y_rfc_score)\n",
    "\n",
    "plt.plot(fpr,tpr,'g--',label='SGDClassifier',linewidth=1.5)\n",
    "plot_roc_curve(fpr_rfc , tpr_rfc ,'RandomForestClassier')\n",
    "plt.show()\n",
    "\n",
    "#as conclussion we know more the AUC better the classifier hence we can conclude RandomForest is better than SGD\n",
    "\n",
    "#you can also see it with its precision,recall and f1_score\n",
    "Y_train_rfc_pred = cross_val_predict(rfc,X_train,Y_train_5,cv=3)\n",
    "\n",
    "rfc_precision = precision_score(Y_train_5,Y_train_rfc_pred)\n",
    "rfc_recall = recall_score(Y_train_5,Y_train_rfc_pred)\n",
    "rfc_f1 = f1_score(Y_train_5,Y_train_rfc_pred)\n",
    "\n",
    "print(f\"\\n\\nPrecision : {rfc_precision}\\nRecall : {rfc_recall}\\nF1_Score : {rfc_f1}\")"
   ]
  },
  {
   "cell_type": "markdown",
   "id": "8b3bbeff",
   "metadata": {},
   "source": [
    "# Multiclass Classifiction\n",
    "* Since we have learn how to perform and measure binary classification now we can proceed to multiclass classification\n",
    "* The classifier we used before are not only limited to binary they can too classify multiple classes"
   ]
  },
  {
   "cell_type": "code",
   "execution_count": 14,
   "id": "2e9224b3",
   "metadata": {
    "execution": {
     "iopub.execute_input": "2022-09-27T09:10:10.122966Z",
     "iopub.status.busy": "2022-09-27T09:10:10.122590Z",
     "iopub.status.idle": "2022-09-27T09:12:29.600351Z",
     "shell.execute_reply": "2022-09-27T09:12:29.599617Z",
     "shell.execute_reply.started": "2022-09-27T09:10:10.122931Z"
    }
   },
   "outputs": [
    {
     "name": "stdout",
     "output_type": "stream",
     "text": [
      "True : 3.0        Predicted : 3.0\n",
      "\n",
      "max score is 7239.13397364112 at 3\n"
     ]
    }
   ],
   "source": [
    "multi_clf = SGDClassifier(random_state=42)\n",
    "multi_clf.fit(X_train,Y_train) #no Y_train_5 anymore \n",
    "\n",
    "Y_pred = multi_clf.predict([X_train[1090]])\n",
    "print(f\"True : {Y_train[1090]}        Predicted : {Y_pred[0]}\")\n",
    "\n",
    "#lets see how it classify it as 3.0\n",
    "score = multi_clf.decision_function([X_train[1090]])\n",
    "print(f'\\nmax score is {np.amax(score)} at {np.argmax(score)}')\n",
    "#since it give max score to class 3 hence the prediction comes out to be 3 "
   ]
  },
  {
   "cell_type": "code",
   "execution_count": 15,
   "id": "fcef9f6a",
   "metadata": {
    "execution": {
     "iopub.execute_input": "2022-09-27T09:12:29.601992Z",
     "iopub.status.busy": "2022-09-27T09:12:29.601279Z",
     "iopub.status.idle": "2022-09-27T09:19:13.850315Z",
     "shell.execute_reply": "2022-09-27T09:19:13.849600Z",
     "shell.execute_reply.started": "2022-09-27T09:12:29.601966Z"
    }
   },
   "outputs": [
    {
     "name": "stdout",
     "output_type": "stream",
     "text": [
      "\n",
      "Accuracy of SGDClassifier as MultiClassifier\n",
      "\n",
      "Accuracy          :   0.8759166666666667\n",
      "\n",
      "Accuracy(Scaled)  :   0.9060833333333334\n",
      "\n"
     ]
    },
    {
     "name": "stderr",
     "output_type": "stream",
     "text": [
      "/opt/conda/lib/python3.7/site-packages/sklearn/linear_model/_stochastic_gradient.py:700: ConvergenceWarning: Maximum number of iteration reached before convergence. Consider increasing max_iter to improve the fit.\n",
      "  ConvergenceWarning,\n"
     ]
    }
   ],
   "source": [
    "#now lets find its accuracy with cross_val_score\n",
    "acc = cross_val_score(multi_clf,X_train,Y_train,cv=2,scoring='accuracy')\n",
    "\n",
    "#we know most models preform better with scaled data like StandardScalar or MinMaxScalar lets see accuracy with scaled data\n",
    "from sklearn.preprocessing import StandardScaler\n",
    "std_scalar = StandardScaler()\n",
    "X_train_scaled = std_scalar.fit_transform(X_train.astype(np.float64))\n",
    "acc_scaled = cross_val_score(multi_clf,X_train_scaled,Y_train,cv=2,scoring='accuracy')\n",
    "\n",
    "print(f'''\n",
    "Accuracy of SGDClassifier as MultiClassifier\n",
    "\n",
    "Accuracy          :   {acc.mean()}\n",
    "\n",
    "Accuracy(Scaled)  :   {acc_scaled.mean()}\n",
    "''')"
   ]
  },
  {
   "cell_type": "markdown",
   "id": "8b7a8ad0",
   "metadata": {},
   "source": [
    "## Error Analysis\n",
    "* Just like binary classification here too we will be creating confusion_matrix and deduce results"
   ]
  },
  {
   "cell_type": "code",
   "execution_count": 16,
   "id": "83bed51f",
   "metadata": {
    "execution": {
     "iopub.execute_input": "2022-09-27T09:19:13.852007Z",
     "iopub.status.busy": "2022-09-27T09:19:13.851329Z",
     "iopub.status.idle": "2022-09-27T09:23:04.617434Z",
     "shell.execute_reply": "2022-09-27T09:23:04.616343Z",
     "shell.execute_reply.started": "2022-09-27T09:19:13.851978Z"
    }
   },
   "outputs": [],
   "source": [
    "Y_train_pred = cross_val_predict(multi_clf,X_train,Y_train,cv=3)\n",
    "conf_mat = confusion_matrix(Y_train,Y_train_pred)"
   ]
  },
  {
   "cell_type": "code",
   "execution_count": 17,
   "id": "b5f5c1ee",
   "metadata": {
    "execution": {
     "iopub.execute_input": "2022-09-27T09:23:04.621885Z",
     "iopub.status.busy": "2022-09-27T09:23:04.621197Z",
     "iopub.status.idle": "2022-09-27T09:23:04.773721Z",
     "shell.execute_reply": "2022-09-27T09:23:04.772919Z",
     "shell.execute_reply.started": "2022-09-27T09:23:04.621852Z"
    }
   },
   "outputs": [
    {
     "data": {
      "image/png": "[encoded data removed]",
      "text/plain": [
       "<Figure size 288x288 with 1 Axes>"
      ]
     },
     "metadata": {
      "needs_background": "light"
     },
     "output_type": "display_data"
    }
   ],
   "source": [
    "row_sum = conf_mat.sum(axis=1,keepdims=True)\n",
    "norm_conf_mat = conf_mat/row_sum\n",
    "np.fill_diagonal(norm_conf_mat,0)\n",
    "plt.matshow(norm_conf_mat,cmap=plt.cm.gray)\n",
    "plt.show()\n",
    "#the colums represents ture case and columns represent predicted"
   ]
  },
  {
   "cell_type": "markdown",
   "id": "dcc2c0ff",
   "metadata": {},
   "source": [
    "# Fine Tuning & Final result\n",
    "* Now we wil try some different models and find best among them , then fine tune it get best results"
   ]
  },
  {
   "cell_type": "code",
   "execution_count": 18,
   "id": "20e2ba3b",
   "metadata": {
    "execution": {
     "iopub.execute_input": "2022-09-27T09:23:04.775856Z",
     "iopub.status.busy": "2022-09-27T09:23:04.775267Z",
     "iopub.status.idle": "2022-09-27T09:26:01.786103Z",
     "shell.execute_reply": "2022-09-27T09:26:01.784276Z",
     "shell.execute_reply.started": "2022-09-27T09:23:04.775820Z"
    }
   },
   "outputs": [
    {
     "name": "stdout",
     "output_type": "stream",
     "text": [
      "\n",
      "KNC     :  0.94105\n",
      "\n",
      "RFC     :  0.9650333333333333\n",
      "\n"
     ]
    }
   ],
   "source": [
    "from sklearn.neighbors import KNeighborsClassifier\n",
    "\n",
    "KNC = KNeighborsClassifier()\n",
    "RFC = RandomForestClassifier()\n",
    "\n",
    "# comparing accuracy with cross_val\n",
    "KNC_score = cross_val_score(KNC,X_train_scaled,Y_train,cv=3)\n",
    "RFC_score = cross_val_score(RFC,X_train_scaled,Y_train,cv=3)\n",
    "\n",
    "print(f'''\n",
    "KNC     :  {KNC_score.mean()}\n",
    "\n",
    "RFC     :  {RFC_score.mean()}\n",
    "''')\n",
    "#they both are toooo close so i might just fine tune both and the compare them agian !!"
   ]
  },
  {
   "cell_type": "markdown",
   "id": "c36f1d77",
   "metadata": {},
   "source": [
    "## Fine Tuning KNeightbourClassifer"
   ]
  },
  {
   "cell_type": "code",
   "execution_count": 20,
   "id": "6ccdd331",
   "metadata": {
    "execution": {
     "iopub.execute_input": "2022-09-27T11:51:30.383221Z",
     "iopub.status.busy": "2022-09-27T11:51:30.382644Z",
     "iopub.status.idle": "2022-09-27T15:15:29.695449Z",
     "shell.execute_reply": "2022-09-27T15:15:29.689401Z",
     "shell.execute_reply.started": "2022-09-27T11:51:30.383188Z"
    }
   },
   "outputs": [
    {
     "ename": "KeyboardInterrupt",
     "evalue": "",
     "output_type": "error",
     "traceback": [
      "\u001b[0;31m---------------------------------------------------------------------------\u001b[0m",
      "\u001b[0;31mKeyboardInterrupt\u001b[0m                         Traceback (most recent call last)",
      "\u001b[0;32m/tmp/ipykernel_17/1597669909.py\u001b[0m in \u001b[0;36m<module>\u001b[0;34m\u001b[0m\n\u001b[1;32m     17\u001b[0m \u001b[0mRFC_rscv\u001b[0m \u001b[0;34m=\u001b[0m \u001b[0mRandomizedSearchCV\u001b[0m\u001b[0;34m(\u001b[0m\u001b[0mRFC\u001b[0m\u001b[0;34m,\u001b[0m\u001b[0mRFC_grid\u001b[0m\u001b[0;34m,\u001b[0m\u001b[0mn_iter\u001b[0m\u001b[0;34m=\u001b[0m\u001b[0;36m50\u001b[0m\u001b[0;34m,\u001b[0m\u001b[0mn_jobs\u001b[0m\u001b[0;34m=\u001b[0m\u001b[0;34m-\u001b[0m\u001b[0;36m1\u001b[0m\u001b[0;34m)\u001b[0m\u001b[0;34m\u001b[0m\u001b[0;34m\u001b[0m\u001b[0m\n\u001b[1;32m     18\u001b[0m \u001b[0;34m\u001b[0m\u001b[0m\n\u001b[0;32m---> 19\u001b[0;31m \u001b[0mKNC_rscv\u001b[0m\u001b[0;34m.\u001b[0m\u001b[0mfit\u001b[0m\u001b[0;34m(\u001b[0m\u001b[0mX_train_scaled\u001b[0m\u001b[0;34m,\u001b[0m\u001b[0mY_train\u001b[0m\u001b[0;34m)\u001b[0m\u001b[0;34m\u001b[0m\u001b[0;34m\u001b[0m\u001b[0m\n\u001b[0m\u001b[1;32m     20\u001b[0m \u001b[0mRFC_rscv\u001b[0m\u001b[0;34m.\u001b[0m\u001b[0mfit\u001b[0m\u001b[0;34m(\u001b[0m\u001b[0mX_train_scaled\u001b[0m\u001b[0;34m,\u001b[0m\u001b[0mY_train\u001b[0m\u001b[0;34m)\u001b[0m\u001b[0;34m\u001b[0m\u001b[0;34m\u001b[0m\u001b[0m\n\u001b[1;32m     21\u001b[0m \u001b[0;34m\u001b[0m\u001b[0m\n",
      "\u001b[0;32m/opt/conda/lib/python3.7/site-packages/sklearn/model_selection/_search.py\u001b[0m in \u001b[0;36mfit\u001b[0;34m(self, X, y, groups, **fit_params)\u001b[0m\n\u001b[1;32m    889\u001b[0m                 \u001b[0;32mreturn\u001b[0m \u001b[0mresults\u001b[0m\u001b[0;34m\u001b[0m\u001b[0;34m\u001b[0m\u001b[0m\n\u001b[1;32m    890\u001b[0m \u001b[0;34m\u001b[0m\u001b[0m\n\u001b[0;32m--> 891\u001b[0;31m             \u001b[0mself\u001b[0m\u001b[0;34m.\u001b[0m\u001b[0m_run_search\u001b[0m\u001b[0;34m(\u001b[0m\u001b[0mevaluate_candidates\u001b[0m\u001b[0;34m)\u001b[0m\u001b[0;34m\u001b[0m\u001b[0;34m\u001b[0m\u001b[0m\n\u001b[0m\u001b[1;32m    892\u001b[0m \u001b[0;34m\u001b[0m\u001b[0m\n\u001b[1;32m    893\u001b[0m             \u001b[0;31m# multimetric is determined here because in the case of a callable\u001b[0m\u001b[0;34m\u001b[0m\u001b[0;34m\u001b[0m\u001b[0;34m\u001b[0m\u001b[0m\n",
      "\u001b[0;32m/opt/conda/lib/python3.7/site-packages/sklearn/model_selection/_search.py\u001b[0m in \u001b[0;36m_run_search\u001b[0;34m(self, evaluate_candidates)\u001b[0m\n\u001b[1;32m   1766\u001b[0m         evaluate_candidates(\n\u001b[1;32m   1767\u001b[0m             ParameterSampler(\n\u001b[0;32m-> 1768\u001b[0;31m                 \u001b[0mself\u001b[0m\u001b[0;34m.\u001b[0m\u001b[0mparam_distributions\u001b[0m\u001b[0;34m,\u001b[0m \u001b[0mself\u001b[0m\u001b[0;34m.\u001b[0m\u001b[0mn_iter\u001b[0m\u001b[0;34m,\u001b[0m \u001b[0mrandom_state\u001b[0m\u001b[0;34m=\u001b[0m\u001b[0mself\u001b[0m\u001b[0;34m.\u001b[0m\u001b[0mrandom_state\u001b[0m\u001b[0;34m\u001b[0m\u001b[0;34m\u001b[0m\u001b[0m\n\u001b[0m\u001b[1;32m   1769\u001b[0m             )\n\u001b[1;32m   1770\u001b[0m         )\n",
      "\u001b[0;32m/opt/conda/lib/python3.7/site-packages/sklearn/model_selection/_search.py\u001b[0m in \u001b[0;36mevaluate_candidates\u001b[0;34m(candidate_params, cv, more_results)\u001b[0m\n\u001b[1;32m    849\u001b[0m                     )\n\u001b[1;32m    850\u001b[0m                     for (cand_idx, parameters), (split_idx, (train, test)) in product(\n\u001b[0;32m--> 851\u001b[0;31m                         \u001b[0menumerate\u001b[0m\u001b[0;34m(\u001b[0m\u001b[0mcandidate_params\u001b[0m\u001b[0;34m)\u001b[0m\u001b[0;34m,\u001b[0m \u001b[0menumerate\u001b[0m\u001b[0;34m(\u001b[0m\u001b[0mcv\u001b[0m\u001b[0;34m.\u001b[0m\u001b[0msplit\u001b[0m\u001b[0;34m(\u001b[0m\u001b[0mX\u001b[0m\u001b[0;34m,\u001b[0m \u001b[0my\u001b[0m\u001b[0;34m,\u001b[0m \u001b[0mgroups\u001b[0m\u001b[0;34m)\u001b[0m\u001b[0;34m)\u001b[0m\u001b[0;34m\u001b[0m\u001b[0;34m\u001b[0m\u001b[0m\n\u001b[0m\u001b[1;32m    852\u001b[0m                     )\n\u001b[1;32m    853\u001b[0m                 )\n",
      "\u001b[0;32m/opt/conda/lib/python3.7/site-packages/joblib/parallel.py\u001b[0m in \u001b[0;36m__call__\u001b[0;34m(self, iterable)\u001b[0m\n\u001b[1;32m   1052\u001b[0m \u001b[0;34m\u001b[0m\u001b[0m\n\u001b[1;32m   1053\u001b[0m             \u001b[0;32mwith\u001b[0m \u001b[0mself\u001b[0m\u001b[0;34m.\u001b[0m\u001b[0m_backend\u001b[0m\u001b[0;34m.\u001b[0m\u001b[0mretrieval_context\u001b[0m\u001b[0;34m(\u001b[0m\u001b[0;34m)\u001b[0m\u001b[0;34m:\u001b[0m\u001b[0;34m\u001b[0m\u001b[0;34m\u001b[0m\u001b[0m\n\u001b[0;32m-> 1054\u001b[0;31m                 \u001b[0mself\u001b[0m\u001b[0;34m.\u001b[0m\u001b[0mretrieve\u001b[0m\u001b[0;34m(\u001b[0m\u001b[0;34m)\u001b[0m\u001b[0;34m\u001b[0m\u001b[0;34m\u001b[0m\u001b[0m\n\u001b[0m\u001b[1;32m   1055\u001b[0m             \u001b[0;31m# Make sure that we get a last message telling us we are done\u001b[0m\u001b[0;34m\u001b[0m\u001b[0;34m\u001b[0m\u001b[0;34m\u001b[0m\u001b[0m\n\u001b[1;32m   1056\u001b[0m             \u001b[0melapsed_time\u001b[0m \u001b[0;34m=\u001b[0m \u001b[0mtime\u001b[0m\u001b[0;34m.\u001b[0m\u001b[0mtime\u001b[0m\u001b[0;34m(\u001b[0m\u001b[0;34m)\u001b[0m \u001b[0;34m-\u001b[0m \u001b[0mself\u001b[0m\u001b[0;34m.\u001b[0m\u001b[0m_start_time\u001b[0m\u001b[0;34m\u001b[0m\u001b[0;34m\u001b[0m\u001b[0m\n",
      "\u001b[0;32m/opt/conda/lib/python3.7/site-packages/joblib/parallel.py\u001b[0m in \u001b[0;36mretrieve\u001b[0;34m(self)\u001b[0m\n\u001b[1;32m    931\u001b[0m             \u001b[0;32mtry\u001b[0m\u001b[0;34m:\u001b[0m\u001b[0;34m\u001b[0m\u001b[0;34m\u001b[0m\u001b[0m\n\u001b[1;32m    932\u001b[0m                 \u001b[0;32mif\u001b[0m \u001b[0mgetattr\u001b[0m\u001b[0;34m(\u001b[0m\u001b[0mself\u001b[0m\u001b[0;34m.\u001b[0m\u001b[0m_backend\u001b[0m\u001b[0;34m,\u001b[0m \u001b[0;34m'supports_timeout'\u001b[0m\u001b[0;34m,\u001b[0m \u001b[0;32mFalse\u001b[0m\u001b[0;34m)\u001b[0m\u001b[0;34m:\u001b[0m\u001b[0;34m\u001b[0m\u001b[0;34m\u001b[0m\u001b[0m\n\u001b[0;32m--> 933\u001b[0;31m                     \u001b[0mself\u001b[0m\u001b[0;34m.\u001b[0m\u001b[0m_output\u001b[0m\u001b[0;34m.\u001b[0m\u001b[0mextend\u001b[0m\u001b[0;34m(\u001b[0m\u001b[0mjob\u001b[0m\u001b[0;34m.\u001b[0m\u001b[0mget\u001b[0m\u001b[0;34m(\u001b[0m\u001b[0mtimeout\u001b[0m\u001b[0;34m=\u001b[0m\u001b[0mself\u001b[0m\u001b[0;34m.\u001b[0m\u001b[0mtimeout\u001b[0m\u001b[0;34m)\u001b[0m\u001b[0;34m)\u001b[0m\u001b[0;34m\u001b[0m\u001b[0;34m\u001b[0m\u001b[0m\n\u001b[0m\u001b[1;32m    934\u001b[0m                 \u001b[0;32melse\u001b[0m\u001b[0;34m:\u001b[0m\u001b[0;34m\u001b[0m\u001b[0;34m\u001b[0m\u001b[0m\n\u001b[1;32m    935\u001b[0m                     \u001b[0mself\u001b[0m\u001b[0;34m.\u001b[0m\u001b[0m_output\u001b[0m\u001b[0;34m.\u001b[0m\u001b[0mextend\u001b[0m\u001b[0;34m(\u001b[0m\u001b[0mjob\u001b[0m\u001b[0;34m.\u001b[0m\u001b[0mget\u001b[0m\u001b[0;34m(\u001b[0m\u001b[0;34m)\u001b[0m\u001b[0;34m)\u001b[0m\u001b[0;34m\u001b[0m\u001b[0;34m\u001b[0m\u001b[0m\n",
      "\u001b[0;32m/opt/conda/lib/python3.7/site-packages/joblib/_parallel_backends.py\u001b[0m in \u001b[0;36mwrap_future_result\u001b[0;34m(future, timeout)\u001b[0m\n\u001b[1;32m    540\u001b[0m         AsyncResults.get from multiprocessing.\"\"\"\n\u001b[1;32m    541\u001b[0m         \u001b[0;32mtry\u001b[0m\u001b[0;34m:\u001b[0m\u001b[0;34m\u001b[0m\u001b[0;34m\u001b[0m\u001b[0m\n\u001b[0;32m--> 542\u001b[0;31m             \u001b[0;32mreturn\u001b[0m \u001b[0mfuture\u001b[0m\u001b[0;34m.\u001b[0m\u001b[0mresult\u001b[0m\u001b[0;34m(\u001b[0m\u001b[0mtimeout\u001b[0m\u001b[0;34m=\u001b[0m\u001b[0mtimeout\u001b[0m\u001b[0;34m)\u001b[0m\u001b[0;34m\u001b[0m\u001b[0;34m\u001b[0m\u001b[0m\n\u001b[0m\u001b[1;32m    543\u001b[0m         \u001b[0;32mexcept\u001b[0m \u001b[0mCfTimeoutError\u001b[0m \u001b[0;32mas\u001b[0m \u001b[0me\u001b[0m\u001b[0;34m:\u001b[0m\u001b[0;34m\u001b[0m\u001b[0;34m\u001b[0m\u001b[0m\n\u001b[1;32m    544\u001b[0m             \u001b[0;32mraise\u001b[0m \u001b[0mTimeoutError\u001b[0m \u001b[0;32mfrom\u001b[0m \u001b[0me\u001b[0m\u001b[0;34m\u001b[0m\u001b[0;34m\u001b[0m\u001b[0m\n",
      "\u001b[0;32m/opt/conda/lib/python3.7/concurrent/futures/_base.py\u001b[0m in \u001b[0;36mresult\u001b[0;34m(self, timeout)\u001b[0m\n\u001b[1;32m    428\u001b[0m                 \u001b[0;32mreturn\u001b[0m \u001b[0mself\u001b[0m\u001b[0;34m.\u001b[0m\u001b[0m__get_result\u001b[0m\u001b[0;34m(\u001b[0m\u001b[0;34m)\u001b[0m\u001b[0;34m\u001b[0m\u001b[0;34m\u001b[0m\u001b[0m\n\u001b[1;32m    429\u001b[0m \u001b[0;34m\u001b[0m\u001b[0m\n\u001b[0;32m--> 430\u001b[0;31m             \u001b[0mself\u001b[0m\u001b[0;34m.\u001b[0m\u001b[0m_condition\u001b[0m\u001b[0;34m.\u001b[0m\u001b[0mwait\u001b[0m\u001b[0;34m(\u001b[0m\u001b[0mtimeout\u001b[0m\u001b[0;34m)\u001b[0m\u001b[0;34m\u001b[0m\u001b[0;34m\u001b[0m\u001b[0m\n\u001b[0m\u001b[1;32m    431\u001b[0m \u001b[0;34m\u001b[0m\u001b[0m\n\u001b[1;32m    432\u001b[0m             \u001b[0;32mif\u001b[0m \u001b[0mself\u001b[0m\u001b[0;34m.\u001b[0m\u001b[0m_state\u001b[0m \u001b[0;32min\u001b[0m \u001b[0;34m[\u001b[0m\u001b[0mCANCELLED\u001b[0m\u001b[0;34m,\u001b[0m \u001b[0mCANCELLED_AND_NOTIFIED\u001b[0m\u001b[0;34m]\u001b[0m\u001b[0;34m:\u001b[0m\u001b[0;34m\u001b[0m\u001b[0;34m\u001b[0m\u001b[0m\n",
      "\u001b[0;32m/opt/conda/lib/python3.7/threading.py\u001b[0m in \u001b[0;36mwait\u001b[0;34m(self, timeout)\u001b[0m\n\u001b[1;32m    294\u001b[0m         \u001b[0;32mtry\u001b[0m\u001b[0;34m:\u001b[0m    \u001b[0;31m# restore state no matter what (e.g., KeyboardInterrupt)\u001b[0m\u001b[0;34m\u001b[0m\u001b[0;34m\u001b[0m\u001b[0m\n\u001b[1;32m    295\u001b[0m             \u001b[0;32mif\u001b[0m \u001b[0mtimeout\u001b[0m \u001b[0;32mis\u001b[0m \u001b[0;32mNone\u001b[0m\u001b[0;34m:\u001b[0m\u001b[0;34m\u001b[0m\u001b[0;34m\u001b[0m\u001b[0m\n\u001b[0;32m--> 296\u001b[0;31m                 \u001b[0mwaiter\u001b[0m\u001b[0;34m.\u001b[0m\u001b[0macquire\u001b[0m\u001b[0;34m(\u001b[0m\u001b[0;34m)\u001b[0m\u001b[0;34m\u001b[0m\u001b[0;34m\u001b[0m\u001b[0m\n\u001b[0m\u001b[1;32m    297\u001b[0m                 \u001b[0mgotit\u001b[0m \u001b[0;34m=\u001b[0m \u001b[0;32mTrue\u001b[0m\u001b[0;34m\u001b[0m\u001b[0;34m\u001b[0m\u001b[0m\n\u001b[1;32m    298\u001b[0m             \u001b[0;32melse\u001b[0m\u001b[0;34m:\u001b[0m\u001b[0;34m\u001b[0m\u001b[0;34m\u001b[0m\u001b[0m\n",
      "\u001b[0;31mKeyboardInterrupt\u001b[0m: "
     ]
    }
   ],
   "source": [
    "from sklearn.model_selection import RandomizedSearchCV\n",
    "\n",
    "KNC_grid = {'n_neighbors':[5,6,7,8,9,10],\n",
    "            'weights':[\"uniform\",'distance'], \n",
    "            'algorithm':[\"auto\",'ball_tree','kd_tree','brute'], \n",
    "            'leaf_size':[10,20,30,40,50,60,70,80,90,99]\n",
    "           }\n",
    "RFC_grid = {\n",
    "    'n_estimators':[10,100,200,300,400,500,600,700,800,900,999],\n",
    "    'criterion':['gini', 'entropy', 'log_loss'],\n",
    "    'min_samples_split':[2,4,6,8,10],\n",
    "    'min_samples_leaf':[1,2,3,4,5,6,7,8,9,10,11,12],\n",
    "    'max_features':['sqrt','log2']\n",
    "             }\n",
    "\n",
    "KNC_rscv = RandomizedSearchCV(KNC,KNC_grid,n_iter=50,n_jobs=-1)\n",
    "RFC_rscv = RandomizedSearchCV(RFC,RFC_grid,n_iter=50,n_jobs=-1)\n",
    "\n",
    "KNC_rscv.fit(X_train_scaled,Y_train)\n",
    "RFC_rscv.fit(X_train_scaled,Y_train)\n",
    "\n",
    "print(KNC_rscv.best_estimator_)\n",
    "print(RFC_rscv.best_estimator_)\n",
    "\n",
    "#i used n_iter = 50 you can take any number but larger number aren't recommended as it will train model that many time over 60K images which will be insanly long"
   ]
  },
  {
   "cell_type": "code",
   "execution_count": null,
   "id": "d86140cb",
   "metadata": {},
   "outputs": [],
   "source": []
  }
 ],
 "metadata": {
  "kernelspec": {
   "display_name": "Python 3 (ipykernel)",
   "language": "python",
   "name": "python3"
  },
  "language_info": {
   "codemirror_mode": {
    "name": "ipython",
    "version": 3
   },
   "file_extension": ".py",
   "mimetype": "text/x-python",
   "name": "python",
   "nbconvert_exporter": "python",
   "pygments_lexer": "ipython3",
   "version": "3.10.6"
  }
 },
 "nbformat": 4,
 "nbformat_minor": 5
}
