{
 "cells": [
  {
   "cell_type": "markdown",
   "id": "9db0903c",
   "metadata": {},
   "source": [
    "### SVM practical usage\n",
    "* ***Dataset used*** : NBA fresher STATS\n",
    "* ***AIM*** : To find weather fresher's career length >=5 or not"
   ]
  },
  {
   "cell_type": "code",
   "execution_count": 10,
   "id": "4e52a70e",
   "metadata": {},
   "outputs": [],
   "source": [
    "import pandas as pd\n",
    "import numpy as np\n",
    "import matplotlib.pyplot as plt"
   ]
  },
  {
   "cell_type": "code",
   "execution_count": 11,
   "id": "63172c52",
   "metadata": {},
   "outputs": [
    {
     "name": "stdout",
     "output_type": "stream",
     "text": [
      "<class 'pandas.core.frame.DataFrame'>\n",
      "RangeIndex: 1340 entries, 0 to 1339\n",
      "Data columns (total 21 columns):\n",
      " #   Column       Non-Null Count  Dtype  \n",
      "---  ------       --------------  -----  \n",
      " 0   Name         1340 non-null   object \n",
      " 1   GP           1340 non-null   int64  \n",
      " 2   MIN          1340 non-null   float64\n",
      " 3   PTS          1340 non-null   float64\n",
      " 4   FGM          1340 non-null   float64\n",
      " 5   FGA          1340 non-null   float64\n",
      " 6   FG%          1340 non-null   float64\n",
      " 7   3P Made      1340 non-null   float64\n",
      " 8   3PA          1340 non-null   float64\n",
      " 9   3P%          1329 non-null   float64\n",
      " 10  FTM          1340 non-null   float64\n",
      " 11  FTA          1340 non-null   float64\n",
      " 12  FT%          1340 non-null   float64\n",
      " 13  OREB         1340 non-null   float64\n",
      " 14  DREB         1340 non-null   float64\n",
      " 15  REB          1340 non-null   float64\n",
      " 16  AST          1340 non-null   float64\n",
      " 17  STL          1340 non-null   float64\n",
      " 18  BLK          1340 non-null   float64\n",
      " 19  TOV          1340 non-null   float64\n",
      " 20  TARGET_5Yrs  1340 non-null   float64\n",
      "dtypes: float64(19), int64(1), object(1)\n",
      "memory usage: 220.0+ KB\n"
     ]
    }
   ],
   "source": [
    "data = pd.read_csv('nba_data.csv')\n",
    "data.info()"
   ]
  },
  {
   "cell_type": "code",
   "execution_count": 12,
   "id": "c2e16284",
   "metadata": {},
   "outputs": [
    {
     "data": {
      "text/plain": [
       "(1340, 20)"
      ]
     },
     "execution_count": 12,
     "metadata": {},
     "output_type": "execute_result"
    }
   ],
   "source": [
    "data.drop('Name',axis=1,inplace=True)\n",
    "data['3P%'].fillna(data['3P%'].mean(),inplace=True)\n",
    "data.shape"
   ]
  },
  {
   "cell_type": "code",
   "execution_count": 13,
   "id": "c479170a",
   "metadata": {},
   "outputs": [
    {
     "data": {
      "image/png": "[encoded data removed]",
      "text/plain": [
       "<Figure size 450x350 with 2 Axes>"
      ]
     },
     "metadata": {},
     "output_type": "display_data"
    }
   ],
   "source": [
    "import seaborn as snb\n",
    "crr = data.corr()\n",
    "\n",
    "plt.figure(figsize=(4.5,3.5))\n",
    "snb.heatmap(crr)\n",
    "plt.show()"
   ]
  },
  {
   "cell_type": "markdown",
   "id": "93ba04f4",
   "metadata": {},
   "source": [
    "There are indeed some highly correlated feature so either of the corr. Feature can be dropped to reduce dimensionality and processing power requirements (which can further be increased{if needed} using kernel trick)"
   ]
  },
  {
   "cell_type": "code",
   "execution_count": 14,
   "id": "5d76f835",
   "metadata": {},
   "outputs": [],
   "source": [
    "def drop_corr_feature(df,threshold):\n",
    "    corr_feature = set()\n",
    "    crr = df.corr()\n",
    "    for i in range(len(crr)):\n",
    "        for j in range(i):\n",
    "            if crr.iloc[i,j] >= threshold:\n",
    "                corr_feature.add(crr.columns[i])\n",
    "    return corr_feature      "
   ]
  },
  {
   "cell_type": "code",
   "execution_count": 15,
   "id": "08a7df02",
   "metadata": {},
   "outputs": [
    {
     "data": {
      "text/plain": [
       "(1340, 11)"
      ]
     },
     "execution_count": 15,
     "metadata": {},
     "output_type": "execute_result"
    }
   ],
   "source": [
    "corr_features = drop_corr_feature(data,0.8)\n",
    "data.drop(corr_features,axis=1,inplace=True)\n",
    "data.shape\n",
    "# 9 feature dropped "
   ]
  },
  {
   "cell_type": "code",
   "execution_count": 16,
   "id": "5cba3efa",
   "metadata": {},
   "outputs": [],
   "source": [
    "from sklearn.model_selection import train_test_split\n",
    "X_train , X_test , y_train , y_test = train_test_split(data.drop('TARGET_5Yrs',axis=1),\n",
    "                                                       data['TARGET_5Yrs'],test_size=0.25,\n",
    "                                                       random_state=42)"
   ]
  },
  {
   "cell_type": "code",
   "execution_count": 17,
   "id": "ccb81375",
   "metadata": {},
   "outputs": [],
   "source": [
    "from sklearn.preprocessing import StandardScaler\n",
    "from sklearn.svm import SVC\n",
    "from sklearn.model_selection import RandomizedSearchCV\n",
    "\n",
    "model = SVC()\n",
    "\n",
    "grid = {\n",
    "    'kernel' : ['rbf','poly'],\n",
    "    'C' : [0.01,0.1,1,2,3,4,5,6,7,8,9,10],\n",
    "    'degree' : [1,2,3,4,5,6,7,8],\n",
    "    'gamma' : [0.01,0.05,0.1,0.5,1]\n",
    "}\n",
    "\n",
    "X_train_scaled = StandardScaler().fit_transform(X_train)\n",
    "\n",
    "RSCV = RandomizedSearchCV().fit(model,X_train_scaled,y_train,n_iter=100,n_jobs=-1)\n",
    "\n",
    "RSCV.best_estimator_"
   ]
  },
  {
   "cell_type": "code",
   "execution_count": null,
   "id": "024836ca",
   "metadata": {},
   "outputs": [],
   "source": []
  }
 ],
 "metadata": {
  "kernelspec": {
   "display_name": "Python 3 (ipykernel)",
   "language": "python",
   "name": "python3"
  },
  "language_info": {
   "codemirror_mode": {
    "name": "ipython",
    "version": 3
   },
   "file_extension": ".py",
   "mimetype": "text/x-python",
   "name": "python",
   "nbconvert_exporter": "python",
   "pygments_lexer": "ipython3",
   "version": "3.10.6"
  }
 },
 "nbformat": 4,
 "nbformat_minor": 5
}
